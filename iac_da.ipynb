{
  "nbformat": 4,
  "nbformat_minor": 0,
  "metadata": {
    "colab": {
      "provenance": []
    },
    "kernelspec": {
      "name": "python3",
      "display_name": "Python 3"
    },
    "language_info": {
      "name": "python"
    }
  },
  "cells": [
    {
      "cell_type": "markdown",
      "source": [
        "##Student Performance Index"
      ],
      "metadata": {
        "id": "Kj8CcuVM7E7b"
      }
    },
    {
      "cell_type": "markdown",
      "source": [
        "#### Life cycle of Data Analysis Project\n",
        "\n",
        "- Ask\n",
        "- Prepare\n",
        "- Collect\n",
        "- Clean\n",
        "- Analyse\n",
        "- Share\n",
        "- Act"
      ],
      "metadata": {
        "id": "2f9TXGik8DF6"
      }
    },
    {
      "cell_type": "markdown",
      "source": [
        "### 1) Problem statement\n",
        "- This project aims to gain insights from student data and understands how the student's expected salary is affected by other variables such as Experience with python, Leadership, Parent's income etc.\n",
        "\n",
        "\n",
        "### 2) Data Collection\n",
        "- Dataset Source - This is a real world dataset of students attending various courses/webinars on IAC platform\n",
        "- The data consists of 16 column and  4894 rows."
      ],
      "metadata": {
        "id": "VDappHH-8LYp"
      }
    },
    {
      "cell_type": "markdown",
      "source": [
        "### 2.1 Import Data and Required Packages\n",
        "####  Importing Pandas, Numpy, Matplotlib, Seaborn and Warings Library."
      ],
      "metadata": {
        "id": "tK_ry52p9MtN"
      }
    },
    {
      "cell_type": "code",
      "execution_count": null,
      "metadata": {
        "id": "cLD8VpIqvjip"
      },
      "outputs": [],
      "source": [
        "import numpy as np\n",
        "import pandas as pd\n",
        "import matplotlib.pyplot as plt\n",
        "import seaborn as sns"
      ]
    },
    {
      "cell_type": "code",
      "source": [
        "df = pd.read_excel('Data analyst Data.xlsx')"
      ],
      "metadata": {
        "id": "NSqRMwX8v6JB"
      },
      "execution_count": null,
      "outputs": []
    },
    {
      "cell_type": "code",
      "source": [
        "df.head()"
      ],
      "metadata": {
        "colab": {
          "base_uri": "https://localhost:8080/",
          "height": 625
        },
        "id": "aVOHZW5KwAx2",
        "outputId": "d455fba1-a7c2-4dd5-f94d-fac11d690339"
      },
      "execution_count": null,
      "outputs": [
        {
          "output_type": "execute_result",
          "data": {
            "text/plain": [
              "  First Name           Email ID  Quantity                  Events  \\\n",
              "0     ANIKET     aniket@xyz.com         1  Art of Resume Building   \n",
              "1  Dhanshree  dhanshree@xyz.com         1  Art of Resume Building   \n",
              "2     Dhiraj     dhiraj@xyz.com         1  Art of Resume Building   \n",
              "3      Pooja      pooja@xyz.com         1  Art of Resume Building   \n",
              "4     Aayush     aayush@xyz.com         1  Art of Resume Building   \n",
              "\n",
              "  Attendee Status                                       College Name  \\\n",
              "0       Attending  D Y PATIL INSTITUTE OF MCA AND MANAGEMENT AKUR...   \n",
              "1       Attending                   AP SHAH INSTITUTE OF TECHNOLOGY    \n",
              "2       Attending       Don Bosco College of Engineering Fatorda Goa   \n",
              "3       Attending           Pillai College of Engineering New Panvel   \n",
              "4       Attending                               St Xavier's College    \n",
              "\n",
              "        How did you come to know about this event?  \\\n",
              "0                                            Email   \n",
              "1                                           Others   \n",
              "2                                            Email   \n",
              "3                                            Email   \n",
              "4  Instagram | LinkedIn | Cloud Counselage Website   \n",
              "\n",
              "  Specify in \"Others\" (how did you come to know about this event)  \\\n",
              "0                                                NaN                \n",
              "1                                            College                \n",
              "2                                                NaN                \n",
              "3                                                NaN                \n",
              "4                                                NaN                \n",
              "\n",
              "  Final Source Designation  Year of Graduation       City  CGPA  \\\n",
              "0        Email    Students                2024      Patna   6.7   \n",
              "1      College    Students                2024   Amravati   8.2   \n",
              "2        Email    Students                2023    Kunrool   6.5   \n",
              "3        Email    Students                2025   Tirupati   8.7   \n",
              "4    Instagram    Students                2024  Vijaywada   9.1   \n",
              "\n",
              "   Experience with python (Months) Family Income  Expected salary (Lac)  \\\n",
              "0                                7       7 Lakh+                      6   \n",
              "1                                3      0-2 Lakh                      7   \n",
              "2                                4      5-7 Lakh                      7   \n",
              "3                                7      2-5 Lakh                      8   \n",
              "4                                3      0-2 Lakh                     10   \n",
              "\n",
              "  Leadership- skills  \n",
              "0                yes  \n",
              "1                 no  \n",
              "2                 no  \n",
              "3                 no  \n",
              "4                yes  "
            ],
            "text/html": [
              "\n",
              "  <div id=\"df-7caccce4-380f-4f8b-858b-472134502814\" class=\"colab-df-container\">\n",
              "    <div>\n",
              "<style scoped>\n",
              "    .dataframe tbody tr th:only-of-type {\n",
              "        vertical-align: middle;\n",
              "    }\n",
              "\n",
              "    .dataframe tbody tr th {\n",
              "        vertical-align: top;\n",
              "    }\n",
              "\n",
              "    .dataframe thead th {\n",
              "        text-align: right;\n",
              "    }\n",
              "</style>\n",
              "<table border=\"1\" class=\"dataframe\">\n",
              "  <thead>\n",
              "    <tr style=\"text-align: right;\">\n",
              "      <th></th>\n",
              "      <th>First Name</th>\n",
              "      <th>Email ID</th>\n",
              "      <th>Quantity</th>\n",
              "      <th>Events</th>\n",
              "      <th>Attendee Status</th>\n",
              "      <th>College Name</th>\n",
              "      <th>How did you come to know about this event?</th>\n",
              "      <th>Specify in \"Others\" (how did you come to know about this event)</th>\n",
              "      <th>Final Source</th>\n",
              "      <th>Designation</th>\n",
              "      <th>Year of Graduation</th>\n",
              "      <th>City</th>\n",
              "      <th>CGPA</th>\n",
              "      <th>Experience with python (Months)</th>\n",
              "      <th>Family Income</th>\n",
              "      <th>Expected salary (Lac)</th>\n",
              "      <th>Leadership- skills</th>\n",
              "    </tr>\n",
              "  </thead>\n",
              "  <tbody>\n",
              "    <tr>\n",
              "      <th>0</th>\n",
              "      <td>ANIKET</td>\n",
              "      <td>aniket@xyz.com</td>\n",
              "      <td>1</td>\n",
              "      <td>Art of Resume Building</td>\n",
              "      <td>Attending</td>\n",
              "      <td>D Y PATIL INSTITUTE OF MCA AND MANAGEMENT AKUR...</td>\n",
              "      <td>Email</td>\n",
              "      <td>NaN</td>\n",
              "      <td>Email</td>\n",
              "      <td>Students</td>\n",
              "      <td>2024</td>\n",
              "      <td>Patna</td>\n",
              "      <td>6.7</td>\n",
              "      <td>7</td>\n",
              "      <td>7 Lakh+</td>\n",
              "      <td>6</td>\n",
              "      <td>yes</td>\n",
              "    </tr>\n",
              "    <tr>\n",
              "      <th>1</th>\n",
              "      <td>Dhanshree</td>\n",
              "      <td>dhanshree@xyz.com</td>\n",
              "      <td>1</td>\n",
              "      <td>Art of Resume Building</td>\n",
              "      <td>Attending</td>\n",
              "      <td>AP SHAH INSTITUTE OF TECHNOLOGY</td>\n",
              "      <td>Others</td>\n",
              "      <td>College</td>\n",
              "      <td>College</td>\n",
              "      <td>Students</td>\n",
              "      <td>2024</td>\n",
              "      <td>Amravati</td>\n",
              "      <td>8.2</td>\n",
              "      <td>3</td>\n",
              "      <td>0-2 Lakh</td>\n",
              "      <td>7</td>\n",
              "      <td>no</td>\n",
              "    </tr>\n",
              "    <tr>\n",
              "      <th>2</th>\n",
              "      <td>Dhiraj</td>\n",
              "      <td>dhiraj@xyz.com</td>\n",
              "      <td>1</td>\n",
              "      <td>Art of Resume Building</td>\n",
              "      <td>Attending</td>\n",
              "      <td>Don Bosco College of Engineering Fatorda Goa</td>\n",
              "      <td>Email</td>\n",
              "      <td>NaN</td>\n",
              "      <td>Email</td>\n",
              "      <td>Students</td>\n",
              "      <td>2023</td>\n",
              "      <td>Kunrool</td>\n",
              "      <td>6.5</td>\n",
              "      <td>4</td>\n",
              "      <td>5-7 Lakh</td>\n",
              "      <td>7</td>\n",
              "      <td>no</td>\n",
              "    </tr>\n",
              "    <tr>\n",
              "      <th>3</th>\n",
              "      <td>Pooja</td>\n",
              "      <td>pooja@xyz.com</td>\n",
              "      <td>1</td>\n",
              "      <td>Art of Resume Building</td>\n",
              "      <td>Attending</td>\n",
              "      <td>Pillai College of Engineering New Panvel</td>\n",
              "      <td>Email</td>\n",
              "      <td>NaN</td>\n",
              "      <td>Email</td>\n",
              "      <td>Students</td>\n",
              "      <td>2025</td>\n",
              "      <td>Tirupati</td>\n",
              "      <td>8.7</td>\n",
              "      <td>7</td>\n",
              "      <td>2-5 Lakh</td>\n",
              "      <td>8</td>\n",
              "      <td>no</td>\n",
              "    </tr>\n",
              "    <tr>\n",
              "      <th>4</th>\n",
              "      <td>Aayush</td>\n",
              "      <td>aayush@xyz.com</td>\n",
              "      <td>1</td>\n",
              "      <td>Art of Resume Building</td>\n",
              "      <td>Attending</td>\n",
              "      <td>St Xavier's College</td>\n",
              "      <td>Instagram | LinkedIn | Cloud Counselage Website</td>\n",
              "      <td>NaN</td>\n",
              "      <td>Instagram</td>\n",
              "      <td>Students</td>\n",
              "      <td>2024</td>\n",
              "      <td>Vijaywada</td>\n",
              "      <td>9.1</td>\n",
              "      <td>3</td>\n",
              "      <td>0-2 Lakh</td>\n",
              "      <td>10</td>\n",
              "      <td>yes</td>\n",
              "    </tr>\n",
              "  </tbody>\n",
              "</table>\n",
              "</div>\n",
              "    <div class=\"colab-df-buttons\">\n",
              "\n",
              "  <div class=\"colab-df-container\">\n",
              "    <button class=\"colab-df-convert\" onclick=\"convertToInteractive('df-7caccce4-380f-4f8b-858b-472134502814')\"\n",
              "            title=\"Convert this dataframe to an interactive table.\"\n",
              "            style=\"display:none;\">\n",
              "\n",
              "  <svg xmlns=\"http://www.w3.org/2000/svg\" height=\"24px\" viewBox=\"0 -960 960 960\">\n",
              "    <path d=\"M120-120v-720h720v720H120Zm60-500h600v-160H180v160Zm220 220h160v-160H400v160Zm0 220h160v-160H400v160ZM180-400h160v-160H180v160Zm440 0h160v-160H620v160ZM180-180h160v-160H180v160Zm440 0h160v-160H620v160Z\"/>\n",
              "  </svg>\n",
              "    </button>\n",
              "\n",
              "  <style>\n",
              "    .colab-df-container {\n",
              "      display:flex;\n",
              "      gap: 12px;\n",
              "    }\n",
              "\n",
              "    .colab-df-convert {\n",
              "      background-color: #E8F0FE;\n",
              "      border: none;\n",
              "      border-radius: 50%;\n",
              "      cursor: pointer;\n",
              "      display: none;\n",
              "      fill: #1967D2;\n",
              "      height: 32px;\n",
              "      padding: 0 0 0 0;\n",
              "      width: 32px;\n",
              "    }\n",
              "\n",
              "    .colab-df-convert:hover {\n",
              "      background-color: #E2EBFA;\n",
              "      box-shadow: 0px 1px 2px rgba(60, 64, 67, 0.3), 0px 1px 3px 1px rgba(60, 64, 67, 0.15);\n",
              "      fill: #174EA6;\n",
              "    }\n",
              "\n",
              "    .colab-df-buttons div {\n",
              "      margin-bottom: 4px;\n",
              "    }\n",
              "\n",
              "    [theme=dark] .colab-df-convert {\n",
              "      background-color: #3B4455;\n",
              "      fill: #D2E3FC;\n",
              "    }\n",
              "\n",
              "    [theme=dark] .colab-df-convert:hover {\n",
              "      background-color: #434B5C;\n",
              "      box-shadow: 0px 1px 3px 1px rgba(0, 0, 0, 0.15);\n",
              "      filter: drop-shadow(0px 1px 2px rgba(0, 0, 0, 0.3));\n",
              "      fill: #FFFFFF;\n",
              "    }\n",
              "  </style>\n",
              "\n",
              "    <script>\n",
              "      const buttonEl =\n",
              "        document.querySelector('#df-7caccce4-380f-4f8b-858b-472134502814 button.colab-df-convert');\n",
              "      buttonEl.style.display =\n",
              "        google.colab.kernel.accessAllowed ? 'block' : 'none';\n",
              "\n",
              "      async function convertToInteractive(key) {\n",
              "        const element = document.querySelector('#df-7caccce4-380f-4f8b-858b-472134502814');\n",
              "        const dataTable =\n",
              "          await google.colab.kernel.invokeFunction('convertToInteractive',\n",
              "                                                    [key], {});\n",
              "        if (!dataTable) return;\n",
              "\n",
              "        const docLinkHtml = 'Like what you see? Visit the ' +\n",
              "          '<a target=\"_blank\" href=https://colab.research.google.com/notebooks/data_table.ipynb>data table notebook</a>'\n",
              "          + ' to learn more about interactive tables.';\n",
              "        element.innerHTML = '';\n",
              "        dataTable['output_type'] = 'display_data';\n",
              "        await google.colab.output.renderOutput(dataTable, element);\n",
              "        const docLink = document.createElement('div');\n",
              "        docLink.innerHTML = docLinkHtml;\n",
              "        element.appendChild(docLink);\n",
              "      }\n",
              "    </script>\n",
              "  </div>\n",
              "\n",
              "\n",
              "<div id=\"df-7651aeb0-9210-479f-9654-bbaaf8f92959\">\n",
              "  <button class=\"colab-df-quickchart\" onclick=\"quickchart('df-7651aeb0-9210-479f-9654-bbaaf8f92959')\"\n",
              "            title=\"Suggest charts.\"\n",
              "            style=\"display:none;\">\n",
              "\n",
              "<svg xmlns=\"http://www.w3.org/2000/svg\" height=\"24px\"viewBox=\"0 0 24 24\"\n",
              "     width=\"24px\">\n",
              "    <g>\n",
              "        <path d=\"M19 3H5c-1.1 0-2 .9-2 2v14c0 1.1.9 2 2 2h14c1.1 0 2-.9 2-2V5c0-1.1-.9-2-2-2zM9 17H7v-7h2v7zm4 0h-2V7h2v10zm4 0h-2v-4h2v4z\"/>\n",
              "    </g>\n",
              "</svg>\n",
              "  </button>\n",
              "\n",
              "<style>\n",
              "  .colab-df-quickchart {\n",
              "      --bg-color: #E8F0FE;\n",
              "      --fill-color: #1967D2;\n",
              "      --hover-bg-color: #E2EBFA;\n",
              "      --hover-fill-color: #174EA6;\n",
              "      --disabled-fill-color: #AAA;\n",
              "      --disabled-bg-color: #DDD;\n",
              "  }\n",
              "\n",
              "  [theme=dark] .colab-df-quickchart {\n",
              "      --bg-color: #3B4455;\n",
              "      --fill-color: #D2E3FC;\n",
              "      --hover-bg-color: #434B5C;\n",
              "      --hover-fill-color: #FFFFFF;\n",
              "      --disabled-bg-color: #3B4455;\n",
              "      --disabled-fill-color: #666;\n",
              "  }\n",
              "\n",
              "  .colab-df-quickchart {\n",
              "    background-color: var(--bg-color);\n",
              "    border: none;\n",
              "    border-radius: 50%;\n",
              "    cursor: pointer;\n",
              "    display: none;\n",
              "    fill: var(--fill-color);\n",
              "    height: 32px;\n",
              "    padding: 0;\n",
              "    width: 32px;\n",
              "  }\n",
              "\n",
              "  .colab-df-quickchart:hover {\n",
              "    background-color: var(--hover-bg-color);\n",
              "    box-shadow: 0 1px 2px rgba(60, 64, 67, 0.3), 0 1px 3px 1px rgba(60, 64, 67, 0.15);\n",
              "    fill: var(--button-hover-fill-color);\n",
              "  }\n",
              "\n",
              "  .colab-df-quickchart-complete:disabled,\n",
              "  .colab-df-quickchart-complete:disabled:hover {\n",
              "    background-color: var(--disabled-bg-color);\n",
              "    fill: var(--disabled-fill-color);\n",
              "    box-shadow: none;\n",
              "  }\n",
              "\n",
              "  .colab-df-spinner {\n",
              "    border: 2px solid var(--fill-color);\n",
              "    border-color: transparent;\n",
              "    border-bottom-color: var(--fill-color);\n",
              "    animation:\n",
              "      spin 1s steps(1) infinite;\n",
              "  }\n",
              "\n",
              "  @keyframes spin {\n",
              "    0% {\n",
              "      border-color: transparent;\n",
              "      border-bottom-color: var(--fill-color);\n",
              "      border-left-color: var(--fill-color);\n",
              "    }\n",
              "    20% {\n",
              "      border-color: transparent;\n",
              "      border-left-color: var(--fill-color);\n",
              "      border-top-color: var(--fill-color);\n",
              "    }\n",
              "    30% {\n",
              "      border-color: transparent;\n",
              "      border-left-color: var(--fill-color);\n",
              "      border-top-color: var(--fill-color);\n",
              "      border-right-color: var(--fill-color);\n",
              "    }\n",
              "    40% {\n",
              "      border-color: transparent;\n",
              "      border-right-color: var(--fill-color);\n",
              "      border-top-color: var(--fill-color);\n",
              "    }\n",
              "    60% {\n",
              "      border-color: transparent;\n",
              "      border-right-color: var(--fill-color);\n",
              "    }\n",
              "    80% {\n",
              "      border-color: transparent;\n",
              "      border-right-color: var(--fill-color);\n",
              "      border-bottom-color: var(--fill-color);\n",
              "    }\n",
              "    90% {\n",
              "      border-color: transparent;\n",
              "      border-bottom-color: var(--fill-color);\n",
              "    }\n",
              "  }\n",
              "</style>\n",
              "\n",
              "  <script>\n",
              "    async function quickchart(key) {\n",
              "      const quickchartButtonEl =\n",
              "        document.querySelector('#' + key + ' button');\n",
              "      quickchartButtonEl.disabled = true;  // To prevent multiple clicks.\n",
              "      quickchartButtonEl.classList.add('colab-df-spinner');\n",
              "      try {\n",
              "        const charts = await google.colab.kernel.invokeFunction(\n",
              "            'suggestCharts', [key], {});\n",
              "      } catch (error) {\n",
              "        console.error('Error during call to suggestCharts:', error);\n",
              "      }\n",
              "      quickchartButtonEl.classList.remove('colab-df-spinner');\n",
              "      quickchartButtonEl.classList.add('colab-df-quickchart-complete');\n",
              "    }\n",
              "    (() => {\n",
              "      let quickchartButtonEl =\n",
              "        document.querySelector('#df-7651aeb0-9210-479f-9654-bbaaf8f92959 button');\n",
              "      quickchartButtonEl.style.display =\n",
              "        google.colab.kernel.accessAllowed ? 'block' : 'none';\n",
              "    })();\n",
              "  </script>\n",
              "</div>\n",
              "    </div>\n",
              "  </div>\n"
            ]
          },
          "metadata": {},
          "execution_count": 38
        }
      ]
    },
    {
      "cell_type": "code",
      "source": [
        "df.shape"
      ],
      "metadata": {
        "colab": {
          "base_uri": "https://localhost:8080/"
        },
        "id": "ADbI1vzN66m-",
        "outputId": "7d2e4beb-96d5-464c-ba79-fff7898663a0"
      },
      "execution_count": null,
      "outputs": [
        {
          "output_type": "execute_result",
          "data": {
            "text/plain": [
              "(4894, 17)"
            ]
          },
          "metadata": {},
          "execution_count": 39
        }
      ]
    },
    {
      "cell_type": "markdown",
      "source": [
        "### 2.2 Dataset information"
      ],
      "metadata": {
        "id": "xvk9qTQBvTSj"
      }
    },
    {
      "cell_type": "markdown",
      "source": [
        "- First Name\n",
        "- Email ID\n",
        "- Quantity\t: no of courses completed\n",
        "- Events\n",
        "- Attendee Status\n",
        "- College Name\n",
        "- How did you come to know about this event?\n",
        "- Specify in \"Others\" (how did you come to know about this event)\n",
        "- Designation\n",
        "- Year of Graduation\n",
        "- City\n",
        "- CGPA\n",
        "- Experience with python (Months)\n",
        "- Family Income\n",
        "- Expected salary (Lac)\n",
        "- Leadership- skills"
      ],
      "metadata": {
        "id": "5AlpX0HPvTBT"
      }
    },
    {
      "cell_type": "markdown",
      "source": [
        "### 3. Data Checks to perform\n",
        "\n",
        "- Check Missing values\n",
        "- Check Duplicates\n",
        "- Check data type\n",
        "- Check the number of unique values of each column\n",
        "- Check statistics of data set\n",
        "- Check various categories present in the different categorical column"
      ],
      "metadata": {
        "id": "MeqRUIcjvfK_"
      }
    },
    {
      "cell_type": "markdown",
      "source": [
        "### 3.1 Check Missing values"
      ],
      "metadata": {
        "id": "gNbmsfKpvmaD"
      }
    },
    {
      "cell_type": "code",
      "source": [
        "df.isna().sum()"
      ],
      "metadata": {
        "id": "SjI1p8wG66jl",
        "colab": {
          "base_uri": "https://localhost:8080/"
        },
        "outputId": "0046639a-4cb0-47e3-b7a8-4f62119c8a75"
      },
      "execution_count": null,
      "outputs": [
        {
          "output_type": "execute_result",
          "data": {
            "text/plain": [
              "First Name                                                            0\n",
              "Email ID                                                              0\n",
              "Quantity                                                              0\n",
              "Events                                                                0\n",
              "Attendee Status                                                       0\n",
              "College Name                                                         15\n",
              "How did you come to know about this event?                         2216\n",
              "Specify in \"Others\" (how did you come to know about this event)    4805\n",
              "Final Source                                                          0\n",
              "Designation                                                           0\n",
              "Year of Graduation                                                    0\n",
              "City                                                                  0\n",
              "CGPA                                                                  0\n",
              "Experience with python (Months)                                       0\n",
              "Family Income                                                         0\n",
              "Expected salary (Lac)                                                 0\n",
              "Leadership- skills                                                    0\n",
              "dtype: int64"
            ]
          },
          "metadata": {},
          "execution_count": 40
        }
      ]
    },
    {
      "cell_type": "markdown",
      "source": [
        "#### There are few missing values in the columns college name and how did student came to known about event however it is not necessary for our model so we can drop it"
      ],
      "metadata": {
        "id": "h49M1EVLwVJ9"
      }
    },
    {
      "cell_type": "markdown",
      "source": [
        "### 3.2 Check Duplicates"
      ],
      "metadata": {
        "id": "78Z_xJYov1-i"
      }
    },
    {
      "cell_type": "code",
      "source": [
        "df.duplicated().sum()"
      ],
      "metadata": {
        "id": "2XNxJm0l66hG",
        "colab": {
          "base_uri": "https://localhost:8080/"
        },
        "outputId": "9eed6853-7546-47d1-c795-f163c8c8610a"
      },
      "execution_count": null,
      "outputs": [
        {
          "output_type": "execute_result",
          "data": {
            "text/plain": [
              "0"
            ]
          },
          "metadata": {},
          "execution_count": 41
        }
      ]
    },
    {
      "cell_type": "markdown",
      "source": [
        "#### There are no duplicates  values in the data set"
      ],
      "metadata": {
        "id": "LeZNa512wO5n"
      }
    },
    {
      "cell_type": "markdown",
      "source": [
        "### 3.3 Check data types\n"
      ],
      "metadata": {
        "id": "gWokUC-Yw8En"
      }
    },
    {
      "cell_type": "code",
      "source": [
        "# Check Null and Dtypes\n",
        "df.info()"
      ],
      "metadata": {
        "id": "5wE4-x5H66eg",
        "colab": {
          "base_uri": "https://localhost:8080/"
        },
        "outputId": "66da57d2-7698-45e1-f95d-17feb78c99d2"
      },
      "execution_count": null,
      "outputs": [
        {
          "output_type": "stream",
          "name": "stdout",
          "text": [
            "<class 'pandas.core.frame.DataFrame'>\n",
            "RangeIndex: 4894 entries, 0 to 4893\n",
            "Data columns (total 17 columns):\n",
            " #   Column                                                           Non-Null Count  Dtype  \n",
            "---  ------                                                           --------------  -----  \n",
            " 0   First Name                                                       4894 non-null   object \n",
            " 1   Email ID                                                         4894 non-null   object \n",
            " 2   Quantity                                                         4894 non-null   int64  \n",
            " 3   Events                                                           4894 non-null   object \n",
            " 4   Attendee Status                                                  4894 non-null   object \n",
            " 5   College Name                                                     4879 non-null   object \n",
            " 6   How did you come to know about this event?                       2678 non-null   object \n",
            " 7   Specify in \"Others\" (how did you come to know about this event)  89 non-null     object \n",
            " 8   Final Source                                                     4894 non-null   object \n",
            " 9   Designation                                                      4894 non-null   object \n",
            " 10  Year of Graduation                                               4894 non-null   int64  \n",
            " 11  City                                                             4894 non-null   object \n",
            " 12  CGPA                                                             4894 non-null   float64\n",
            " 13  Experience with python (Months)                                  4894 non-null   int64  \n",
            " 14  Family Income                                                    4894 non-null   object \n",
            " 15  Expected salary (Lac)                                            4894 non-null   int64  \n",
            " 16  Leadership- skills                                               4894 non-null   object \n",
            "dtypes: float64(1), int64(4), object(12)\n",
            "memory usage: 650.1+ KB\n"
          ]
        }
      ]
    },
    {
      "cell_type": "markdown",
      "source": [
        "### 3.4 Checking the number of unique values of each column"
      ],
      "metadata": {
        "id": "0MIE4Z9KxPme"
      }
    },
    {
      "cell_type": "code",
      "source": [
        "df.nunique()"
      ],
      "metadata": {
        "id": "oj0orQQ366WF",
        "colab": {
          "base_uri": "https://localhost:8080/"
        },
        "outputId": "e6307680-2e45-4199-ba69-5a480d4972f7"
      },
      "execution_count": null,
      "outputs": [
        {
          "output_type": "execute_result",
          "data": {
            "text/plain": [
              "First Name                                                         2324\n",
              "Email ID                                                           2157\n",
              "Quantity                                                              1\n",
              "Events                                                               16\n",
              "Attendee Status                                                       2\n",
              "College Name                                                         55\n",
              "How did you come to know about this event?                           99\n",
              "Specify in \"Others\" (how did you come to know about this event)      11\n",
              "Final Source                                                         40\n",
              "Designation                                                          49\n",
              "Year of Graduation                                                    4\n",
              "City                                                                177\n",
              "CGPA                                                                 37\n",
              "Experience with python (Months)                                       6\n",
              "Family Income                                                         4\n",
              "Expected salary (Lac)                                                30\n",
              "Leadership- skills                                                    2\n",
              "dtype: int64"
            ]
          },
          "metadata": {},
          "execution_count": 43
        }
      ]
    },
    {
      "cell_type": "markdown",
      "source": [
        "### 3.5 Check statistics of data set"
      ],
      "metadata": {
        "id": "PIyiew1cxtZa"
      }
    },
    {
      "cell_type": "code",
      "source": [
        "df.describe()"
      ],
      "metadata": {
        "id": "4H-JTq0o66Tk",
        "colab": {
          "base_uri": "https://localhost:8080/",
          "height": 300
        },
        "outputId": "25e7714a-bfb5-4f77-b870-b688f1408c10"
      },
      "execution_count": null,
      "outputs": [
        {
          "output_type": "execute_result",
          "data": {
            "text/plain": [
              "       Quantity  Year of Graduation         CGPA  \\\n",
              "count    4894.0         4894.000000  4894.000000   \n",
              "mean        1.0         2024.176951     8.038476   \n",
              "std         0.0            1.000180     1.005184   \n",
              "min         1.0         2023.000000     6.200000   \n",
              "25%         1.0         2023.000000     7.200000   \n",
              "50%         1.0         2024.000000     7.900000   \n",
              "75%         1.0         2025.000000     8.900000   \n",
              "max         1.0         2026.000000     9.900000   \n",
              "\n",
              "       Experience with python (Months)  Expected salary (Lac)  \n",
              "count                      4894.000000            4894.000000  \n",
              "mean                          5.395586              13.935635  \n",
              "std                           1.705364               6.451959  \n",
              "min                           3.000000               5.000000  \n",
              "25%                           4.000000               8.000000  \n",
              "50%                           5.000000              13.000000  \n",
              "75%                           7.000000              19.000000  \n",
              "max                           8.000000              35.000000  "
            ],
            "text/html": [
              "\n",
              "  <div id=\"df-577c28ca-1e6b-4e9a-91a0-95b06ab6c9aa\" class=\"colab-df-container\">\n",
              "    <div>\n",
              "<style scoped>\n",
              "    .dataframe tbody tr th:only-of-type {\n",
              "        vertical-align: middle;\n",
              "    }\n",
              "\n",
              "    .dataframe tbody tr th {\n",
              "        vertical-align: top;\n",
              "    }\n",
              "\n",
              "    .dataframe thead th {\n",
              "        text-align: right;\n",
              "    }\n",
              "</style>\n",
              "<table border=\"1\" class=\"dataframe\">\n",
              "  <thead>\n",
              "    <tr style=\"text-align: right;\">\n",
              "      <th></th>\n",
              "      <th>Quantity</th>\n",
              "      <th>Year of Graduation</th>\n",
              "      <th>CGPA</th>\n",
              "      <th>Experience with python (Months)</th>\n",
              "      <th>Expected salary (Lac)</th>\n",
              "    </tr>\n",
              "  </thead>\n",
              "  <tbody>\n",
              "    <tr>\n",
              "      <th>count</th>\n",
              "      <td>4894.0</td>\n",
              "      <td>4894.000000</td>\n",
              "      <td>4894.000000</td>\n",
              "      <td>4894.000000</td>\n",
              "      <td>4894.000000</td>\n",
              "    </tr>\n",
              "    <tr>\n",
              "      <th>mean</th>\n",
              "      <td>1.0</td>\n",
              "      <td>2024.176951</td>\n",
              "      <td>8.038476</td>\n",
              "      <td>5.395586</td>\n",
              "      <td>13.935635</td>\n",
              "    </tr>\n",
              "    <tr>\n",
              "      <th>std</th>\n",
              "      <td>0.0</td>\n",
              "      <td>1.000180</td>\n",
              "      <td>1.005184</td>\n",
              "      <td>1.705364</td>\n",
              "      <td>6.451959</td>\n",
              "    </tr>\n",
              "    <tr>\n",
              "      <th>min</th>\n",
              "      <td>1.0</td>\n",
              "      <td>2023.000000</td>\n",
              "      <td>6.200000</td>\n",
              "      <td>3.000000</td>\n",
              "      <td>5.000000</td>\n",
              "    </tr>\n",
              "    <tr>\n",
              "      <th>25%</th>\n",
              "      <td>1.0</td>\n",
              "      <td>2023.000000</td>\n",
              "      <td>7.200000</td>\n",
              "      <td>4.000000</td>\n",
              "      <td>8.000000</td>\n",
              "    </tr>\n",
              "    <tr>\n",
              "      <th>50%</th>\n",
              "      <td>1.0</td>\n",
              "      <td>2024.000000</td>\n",
              "      <td>7.900000</td>\n",
              "      <td>5.000000</td>\n",
              "      <td>13.000000</td>\n",
              "    </tr>\n",
              "    <tr>\n",
              "      <th>75%</th>\n",
              "      <td>1.0</td>\n",
              "      <td>2025.000000</td>\n",
              "      <td>8.900000</td>\n",
              "      <td>7.000000</td>\n",
              "      <td>19.000000</td>\n",
              "    </tr>\n",
              "    <tr>\n",
              "      <th>max</th>\n",
              "      <td>1.0</td>\n",
              "      <td>2026.000000</td>\n",
              "      <td>9.900000</td>\n",
              "      <td>8.000000</td>\n",
              "      <td>35.000000</td>\n",
              "    </tr>\n",
              "  </tbody>\n",
              "</table>\n",
              "</div>\n",
              "    <div class=\"colab-df-buttons\">\n",
              "\n",
              "  <div class=\"colab-df-container\">\n",
              "    <button class=\"colab-df-convert\" onclick=\"convertToInteractive('df-577c28ca-1e6b-4e9a-91a0-95b06ab6c9aa')\"\n",
              "            title=\"Convert this dataframe to an interactive table.\"\n",
              "            style=\"display:none;\">\n",
              "\n",
              "  <svg xmlns=\"http://www.w3.org/2000/svg\" height=\"24px\" viewBox=\"0 -960 960 960\">\n",
              "    <path d=\"M120-120v-720h720v720H120Zm60-500h600v-160H180v160Zm220 220h160v-160H400v160Zm0 220h160v-160H400v160ZM180-400h160v-160H180v160Zm440 0h160v-160H620v160ZM180-180h160v-160H180v160Zm440 0h160v-160H620v160Z\"/>\n",
              "  </svg>\n",
              "    </button>\n",
              "\n",
              "  <style>\n",
              "    .colab-df-container {\n",
              "      display:flex;\n",
              "      gap: 12px;\n",
              "    }\n",
              "\n",
              "    .colab-df-convert {\n",
              "      background-color: #E8F0FE;\n",
              "      border: none;\n",
              "      border-radius: 50%;\n",
              "      cursor: pointer;\n",
              "      display: none;\n",
              "      fill: #1967D2;\n",
              "      height: 32px;\n",
              "      padding: 0 0 0 0;\n",
              "      width: 32px;\n",
              "    }\n",
              "\n",
              "    .colab-df-convert:hover {\n",
              "      background-color: #E2EBFA;\n",
              "      box-shadow: 0px 1px 2px rgba(60, 64, 67, 0.3), 0px 1px 3px 1px rgba(60, 64, 67, 0.15);\n",
              "      fill: #174EA6;\n",
              "    }\n",
              "\n",
              "    .colab-df-buttons div {\n",
              "      margin-bottom: 4px;\n",
              "    }\n",
              "\n",
              "    [theme=dark] .colab-df-convert {\n",
              "      background-color: #3B4455;\n",
              "      fill: #D2E3FC;\n",
              "    }\n",
              "\n",
              "    [theme=dark] .colab-df-convert:hover {\n",
              "      background-color: #434B5C;\n",
              "      box-shadow: 0px 1px 3px 1px rgba(0, 0, 0, 0.15);\n",
              "      filter: drop-shadow(0px 1px 2px rgba(0, 0, 0, 0.3));\n",
              "      fill: #FFFFFF;\n",
              "    }\n",
              "  </style>\n",
              "\n",
              "    <script>\n",
              "      const buttonEl =\n",
              "        document.querySelector('#df-577c28ca-1e6b-4e9a-91a0-95b06ab6c9aa button.colab-df-convert');\n",
              "      buttonEl.style.display =\n",
              "        google.colab.kernel.accessAllowed ? 'block' : 'none';\n",
              "\n",
              "      async function convertToInteractive(key) {\n",
              "        const element = document.querySelector('#df-577c28ca-1e6b-4e9a-91a0-95b06ab6c9aa');\n",
              "        const dataTable =\n",
              "          await google.colab.kernel.invokeFunction('convertToInteractive',\n",
              "                                                    [key], {});\n",
              "        if (!dataTable) return;\n",
              "\n",
              "        const docLinkHtml = 'Like what you see? Visit the ' +\n",
              "          '<a target=\"_blank\" href=https://colab.research.google.com/notebooks/data_table.ipynb>data table notebook</a>'\n",
              "          + ' to learn more about interactive tables.';\n",
              "        element.innerHTML = '';\n",
              "        dataTable['output_type'] = 'display_data';\n",
              "        await google.colab.output.renderOutput(dataTable, element);\n",
              "        const docLink = document.createElement('div');\n",
              "        docLink.innerHTML = docLinkHtml;\n",
              "        element.appendChild(docLink);\n",
              "      }\n",
              "    </script>\n",
              "  </div>\n",
              "\n",
              "\n",
              "<div id=\"df-347811c3-cd8e-4473-aae5-18eed7d25555\">\n",
              "  <button class=\"colab-df-quickchart\" onclick=\"quickchart('df-347811c3-cd8e-4473-aae5-18eed7d25555')\"\n",
              "            title=\"Suggest charts.\"\n",
              "            style=\"display:none;\">\n",
              "\n",
              "<svg xmlns=\"http://www.w3.org/2000/svg\" height=\"24px\"viewBox=\"0 0 24 24\"\n",
              "     width=\"24px\">\n",
              "    <g>\n",
              "        <path d=\"M19 3H5c-1.1 0-2 .9-2 2v14c0 1.1.9 2 2 2h14c1.1 0 2-.9 2-2V5c0-1.1-.9-2-2-2zM9 17H7v-7h2v7zm4 0h-2V7h2v10zm4 0h-2v-4h2v4z\"/>\n",
              "    </g>\n",
              "</svg>\n",
              "  </button>\n",
              "\n",
              "<style>\n",
              "  .colab-df-quickchart {\n",
              "      --bg-color: #E8F0FE;\n",
              "      --fill-color: #1967D2;\n",
              "      --hover-bg-color: #E2EBFA;\n",
              "      --hover-fill-color: #174EA6;\n",
              "      --disabled-fill-color: #AAA;\n",
              "      --disabled-bg-color: #DDD;\n",
              "  }\n",
              "\n",
              "  [theme=dark] .colab-df-quickchart {\n",
              "      --bg-color: #3B4455;\n",
              "      --fill-color: #D2E3FC;\n",
              "      --hover-bg-color: #434B5C;\n",
              "      --hover-fill-color: #FFFFFF;\n",
              "      --disabled-bg-color: #3B4455;\n",
              "      --disabled-fill-color: #666;\n",
              "  }\n",
              "\n",
              "  .colab-df-quickchart {\n",
              "    background-color: var(--bg-color);\n",
              "    border: none;\n",
              "    border-radius: 50%;\n",
              "    cursor: pointer;\n",
              "    display: none;\n",
              "    fill: var(--fill-color);\n",
              "    height: 32px;\n",
              "    padding: 0;\n",
              "    width: 32px;\n",
              "  }\n",
              "\n",
              "  .colab-df-quickchart:hover {\n",
              "    background-color: var(--hover-bg-color);\n",
              "    box-shadow: 0 1px 2px rgba(60, 64, 67, 0.3), 0 1px 3px 1px rgba(60, 64, 67, 0.15);\n",
              "    fill: var(--button-hover-fill-color);\n",
              "  }\n",
              "\n",
              "  .colab-df-quickchart-complete:disabled,\n",
              "  .colab-df-quickchart-complete:disabled:hover {\n",
              "    background-color: var(--disabled-bg-color);\n",
              "    fill: var(--disabled-fill-color);\n",
              "    box-shadow: none;\n",
              "  }\n",
              "\n",
              "  .colab-df-spinner {\n",
              "    border: 2px solid var(--fill-color);\n",
              "    border-color: transparent;\n",
              "    border-bottom-color: var(--fill-color);\n",
              "    animation:\n",
              "      spin 1s steps(1) infinite;\n",
              "  }\n",
              "\n",
              "  @keyframes spin {\n",
              "    0% {\n",
              "      border-color: transparent;\n",
              "      border-bottom-color: var(--fill-color);\n",
              "      border-left-color: var(--fill-color);\n",
              "    }\n",
              "    20% {\n",
              "      border-color: transparent;\n",
              "      border-left-color: var(--fill-color);\n",
              "      border-top-color: var(--fill-color);\n",
              "    }\n",
              "    30% {\n",
              "      border-color: transparent;\n",
              "      border-left-color: var(--fill-color);\n",
              "      border-top-color: var(--fill-color);\n",
              "      border-right-color: var(--fill-color);\n",
              "    }\n",
              "    40% {\n",
              "      border-color: transparent;\n",
              "      border-right-color: var(--fill-color);\n",
              "      border-top-color: var(--fill-color);\n",
              "    }\n",
              "    60% {\n",
              "      border-color: transparent;\n",
              "      border-right-color: var(--fill-color);\n",
              "    }\n",
              "    80% {\n",
              "      border-color: transparent;\n",
              "      border-right-color: var(--fill-color);\n",
              "      border-bottom-color: var(--fill-color);\n",
              "    }\n",
              "    90% {\n",
              "      border-color: transparent;\n",
              "      border-bottom-color: var(--fill-color);\n",
              "    }\n",
              "  }\n",
              "</style>\n",
              "\n",
              "  <script>\n",
              "    async function quickchart(key) {\n",
              "      const quickchartButtonEl =\n",
              "        document.querySelector('#' + key + ' button');\n",
              "      quickchartButtonEl.disabled = true;  // To prevent multiple clicks.\n",
              "      quickchartButtonEl.classList.add('colab-df-spinner');\n",
              "      try {\n",
              "        const charts = await google.colab.kernel.invokeFunction(\n",
              "            'suggestCharts', [key], {});\n",
              "      } catch (error) {\n",
              "        console.error('Error during call to suggestCharts:', error);\n",
              "      }\n",
              "      quickchartButtonEl.classList.remove('colab-df-spinner');\n",
              "      quickchartButtonEl.classList.add('colab-df-quickchart-complete');\n",
              "    }\n",
              "    (() => {\n",
              "      let quickchartButtonEl =\n",
              "        document.querySelector('#df-347811c3-cd8e-4473-aae5-18eed7d25555 button');\n",
              "      quickchartButtonEl.style.display =\n",
              "        google.colab.kernel.accessAllowed ? 'block' : 'none';\n",
              "    })();\n",
              "  </script>\n",
              "</div>\n",
              "    </div>\n",
              "  </div>\n"
            ]
          },
          "metadata": {},
          "execution_count": 44
        }
      ]
    },
    {
      "cell_type": "markdown",
      "source": [
        "### 3.7 Exploring Data"
      ],
      "metadata": {
        "id": "pJIDSjqKx9pb"
      }
    },
    {
      "cell_type": "code",
      "source": [
        "print(\"Categories in 'leadership' variable:     \",end=\" \" )\n",
        "print(df['Leadership- skills'].unique())"
      ],
      "metadata": {
        "id": "b1V2ara666RC",
        "colab": {
          "base_uri": "https://localhost:8080/"
        },
        "outputId": "53de3cd9-6059-44e9-e534-4a4d8bf38112"
      },
      "execution_count": null,
      "outputs": [
        {
          "output_type": "stream",
          "name": "stdout",
          "text": [
            "Categories in 'leadership' variable:      ['yes' 'no']\n"
          ]
        }
      ]
    },
    {
      "cell_type": "code",
      "source": [
        "df['Leadership- skills'] = df['Leadership- skills'].str.replace('no ', 'no')"
      ],
      "metadata": {
        "id": "YI4IjgGt2uob"
      },
      "execution_count": null,
      "outputs": []
    },
    {
      "cell_type": "code",
      "source": [
        "print(\"Categories in 'leadership' variable:     \",end=\" \" )\n",
        "print(df['Leadership- skills'].unique())"
      ],
      "metadata": {
        "colab": {
          "base_uri": "https://localhost:8080/"
        },
        "id": "ONZ7owld2xzv",
        "outputId": "d29b453e-dfa2-418b-d5d3-ec195cfb3598"
      },
      "execution_count": null,
      "outputs": [
        {
          "output_type": "stream",
          "name": "stdout",
          "text": [
            "Categories in 'leadership' variable:      ['yes' 'no']\n"
          ]
        }
      ]
    },
    {
      "cell_type": "code",
      "source": [
        "# define numerical & categorical columns\n",
        "# O-> object\n",
        "numeric_features = [feature for feature in df.columns if df[feature].dtype != 'O']\n",
        "categorical_features = [feature for feature in df.columns if df[feature].dtype == 'O']\n",
        "\n",
        "# print columns\n",
        "print('We have {} numerical features : {}'.format(len(numeric_features), numeric_features))\n",
        "print('\\nWe have {} categorical features : {}'.format(len(categorical_features), categorical_features))"
      ],
      "metadata": {
        "id": "z7MRSsad66Oc",
        "colab": {
          "base_uri": "https://localhost:8080/"
        },
        "outputId": "dbdfed9c-574a-45ff-dd02-39afb5279a89"
      },
      "execution_count": null,
      "outputs": [
        {
          "output_type": "stream",
          "name": "stdout",
          "text": [
            "We have 5 numerical features : ['Quantity', 'Year of Graduation', 'CGPA', 'Experience with python (Months)', 'Expected salary (Lac)']\n",
            "\n",
            "We have 12 categorical features : ['First Name', 'Email ID', 'Events', 'Attendee Status', 'College Name', 'How did you come to know about this event?', 'Specify in \"Others\" (how did you come to know about this event)', 'Final Source', 'Designation', 'City', 'Family Income', 'Leadership- skills']\n"
          ]
        }
      ]
    },
    {
      "cell_type": "markdown",
      "source": [
        "### 3.8 Changing range of family income to a single numeric column"
      ],
      "metadata": {
        "id": "fFfk3OMT00tK"
      }
    },
    {
      "cell_type": "code",
      "source": [
        "# Define a mapping of the income ranges to their corresponding numerical values\n",
        "income_mapping = {\n",
        "    '0-2 Lakh': 100000,\n",
        "    '2-5 Lakh': 350000,\n",
        "    '5-7 Lakh': 600000,\n",
        "    '7 Lakh+': 800000    # Taking a representative value for the highest range\n",
        "}\n",
        "\n",
        "# Replace the range values with their numerical equivalents\n",
        "df['Family Income'] = df['Family Income'].map(income_mapping)\n"
      ],
      "metadata": {
        "id": "JqqKn3yw66L7"
      },
      "execution_count": null,
      "outputs": []
    },
    {
      "cell_type": "code",
      "source": [
        "df.head()"
      ],
      "metadata": {
        "id": "PegNjtRl66Je",
        "colab": {
          "base_uri": "https://localhost:8080/",
          "height": 625
        },
        "outputId": "dca0e79c-2583-42d7-f348-518923472872"
      },
      "execution_count": null,
      "outputs": [
        {
          "output_type": "execute_result",
          "data": {
            "text/plain": [
              "  First Name           Email ID  Quantity                  Events  \\\n",
              "0     ANIKET     aniket@xyz.com         1  Art of Resume Building   \n",
              "1  Dhanshree  dhanshree@xyz.com         1  Art of Resume Building   \n",
              "2     Dhiraj     dhiraj@xyz.com         1  Art of Resume Building   \n",
              "3      Pooja      pooja@xyz.com         1  Art of Resume Building   \n",
              "4     Aayush     aayush@xyz.com         1  Art of Resume Building   \n",
              "\n",
              "  Attendee Status                                       College Name  \\\n",
              "0       Attending  D Y PATIL INSTITUTE OF MCA AND MANAGEMENT AKUR...   \n",
              "1       Attending                   AP SHAH INSTITUTE OF TECHNOLOGY    \n",
              "2       Attending       Don Bosco College of Engineering Fatorda Goa   \n",
              "3       Attending           Pillai College of Engineering New Panvel   \n",
              "4       Attending                               St Xavier's College    \n",
              "\n",
              "        How did you come to know about this event?  \\\n",
              "0                                            Email   \n",
              "1                                           Others   \n",
              "2                                            Email   \n",
              "3                                            Email   \n",
              "4  Instagram | LinkedIn | Cloud Counselage Website   \n",
              "\n",
              "  Specify in \"Others\" (how did you come to know about this event)  \\\n",
              "0                                                NaN                \n",
              "1                                            College                \n",
              "2                                                NaN                \n",
              "3                                                NaN                \n",
              "4                                                NaN                \n",
              "\n",
              "  Final Source Designation  Year of Graduation       City  CGPA  \\\n",
              "0        Email    Students                2024      Patna   6.7   \n",
              "1      College    Students                2024   Amravati   8.2   \n",
              "2        Email    Students                2023    Kunrool   6.5   \n",
              "3        Email    Students                2025   Tirupati   8.7   \n",
              "4    Instagram    Students                2024  Vijaywada   9.1   \n",
              "\n",
              "   Experience with python (Months)  Family Income  Expected salary (Lac)  \\\n",
              "0                                7         800000                      6   \n",
              "1                                3         100000                      7   \n",
              "2                                4         600000                      7   \n",
              "3                                7         350000                      8   \n",
              "4                                3         100000                     10   \n",
              "\n",
              "  Leadership- skills  \n",
              "0                yes  \n",
              "1                 no  \n",
              "2                 no  \n",
              "3                 no  \n",
              "4                yes  "
            ],
            "text/html": [
              "\n",
              "  <div id=\"df-f619dd34-7f86-4ebe-a157-cff38a7dbc2b\" class=\"colab-df-container\">\n",
              "    <div>\n",
              "<style scoped>\n",
              "    .dataframe tbody tr th:only-of-type {\n",
              "        vertical-align: middle;\n",
              "    }\n",
              "\n",
              "    .dataframe tbody tr th {\n",
              "        vertical-align: top;\n",
              "    }\n",
              "\n",
              "    .dataframe thead th {\n",
              "        text-align: right;\n",
              "    }\n",
              "</style>\n",
              "<table border=\"1\" class=\"dataframe\">\n",
              "  <thead>\n",
              "    <tr style=\"text-align: right;\">\n",
              "      <th></th>\n",
              "      <th>First Name</th>\n",
              "      <th>Email ID</th>\n",
              "      <th>Quantity</th>\n",
              "      <th>Events</th>\n",
              "      <th>Attendee Status</th>\n",
              "      <th>College Name</th>\n",
              "      <th>How did you come to know about this event?</th>\n",
              "      <th>Specify in \"Others\" (how did you come to know about this event)</th>\n",
              "      <th>Final Source</th>\n",
              "      <th>Designation</th>\n",
              "      <th>Year of Graduation</th>\n",
              "      <th>City</th>\n",
              "      <th>CGPA</th>\n",
              "      <th>Experience with python (Months)</th>\n",
              "      <th>Family Income</th>\n",
              "      <th>Expected salary (Lac)</th>\n",
              "      <th>Leadership- skills</th>\n",
              "    </tr>\n",
              "  </thead>\n",
              "  <tbody>\n",
              "    <tr>\n",
              "      <th>0</th>\n",
              "      <td>ANIKET</td>\n",
              "      <td>aniket@xyz.com</td>\n",
              "      <td>1</td>\n",
              "      <td>Art of Resume Building</td>\n",
              "      <td>Attending</td>\n",
              "      <td>D Y PATIL INSTITUTE OF MCA AND MANAGEMENT AKUR...</td>\n",
              "      <td>Email</td>\n",
              "      <td>NaN</td>\n",
              "      <td>Email</td>\n",
              "      <td>Students</td>\n",
              "      <td>2024</td>\n",
              "      <td>Patna</td>\n",
              "      <td>6.7</td>\n",
              "      <td>7</td>\n",
              "      <td>800000</td>\n",
              "      <td>6</td>\n",
              "      <td>yes</td>\n",
              "    </tr>\n",
              "    <tr>\n",
              "      <th>1</th>\n",
              "      <td>Dhanshree</td>\n",
              "      <td>dhanshree@xyz.com</td>\n",
              "      <td>1</td>\n",
              "      <td>Art of Resume Building</td>\n",
              "      <td>Attending</td>\n",
              "      <td>AP SHAH INSTITUTE OF TECHNOLOGY</td>\n",
              "      <td>Others</td>\n",
              "      <td>College</td>\n",
              "      <td>College</td>\n",
              "      <td>Students</td>\n",
              "      <td>2024</td>\n",
              "      <td>Amravati</td>\n",
              "      <td>8.2</td>\n",
              "      <td>3</td>\n",
              "      <td>100000</td>\n",
              "      <td>7</td>\n",
              "      <td>no</td>\n",
              "    </tr>\n",
              "    <tr>\n",
              "      <th>2</th>\n",
              "      <td>Dhiraj</td>\n",
              "      <td>dhiraj@xyz.com</td>\n",
              "      <td>1</td>\n",
              "      <td>Art of Resume Building</td>\n",
              "      <td>Attending</td>\n",
              "      <td>Don Bosco College of Engineering Fatorda Goa</td>\n",
              "      <td>Email</td>\n",
              "      <td>NaN</td>\n",
              "      <td>Email</td>\n",
              "      <td>Students</td>\n",
              "      <td>2023</td>\n",
              "      <td>Kunrool</td>\n",
              "      <td>6.5</td>\n",
              "      <td>4</td>\n",
              "      <td>600000</td>\n",
              "      <td>7</td>\n",
              "      <td>no</td>\n",
              "    </tr>\n",
              "    <tr>\n",
              "      <th>3</th>\n",
              "      <td>Pooja</td>\n",
              "      <td>pooja@xyz.com</td>\n",
              "      <td>1</td>\n",
              "      <td>Art of Resume Building</td>\n",
              "      <td>Attending</td>\n",
              "      <td>Pillai College of Engineering New Panvel</td>\n",
              "      <td>Email</td>\n",
              "      <td>NaN</td>\n",
              "      <td>Email</td>\n",
              "      <td>Students</td>\n",
              "      <td>2025</td>\n",
              "      <td>Tirupati</td>\n",
              "      <td>8.7</td>\n",
              "      <td>7</td>\n",
              "      <td>350000</td>\n",
              "      <td>8</td>\n",
              "      <td>no</td>\n",
              "    </tr>\n",
              "    <tr>\n",
              "      <th>4</th>\n",
              "      <td>Aayush</td>\n",
              "      <td>aayush@xyz.com</td>\n",
              "      <td>1</td>\n",
              "      <td>Art of Resume Building</td>\n",
              "      <td>Attending</td>\n",
              "      <td>St Xavier's College</td>\n",
              "      <td>Instagram | LinkedIn | Cloud Counselage Website</td>\n",
              "      <td>NaN</td>\n",
              "      <td>Instagram</td>\n",
              "      <td>Students</td>\n",
              "      <td>2024</td>\n",
              "      <td>Vijaywada</td>\n",
              "      <td>9.1</td>\n",
              "      <td>3</td>\n",
              "      <td>100000</td>\n",
              "      <td>10</td>\n",
              "      <td>yes</td>\n",
              "    </tr>\n",
              "  </tbody>\n",
              "</table>\n",
              "</div>\n",
              "    <div class=\"colab-df-buttons\">\n",
              "\n",
              "  <div class=\"colab-df-container\">\n",
              "    <button class=\"colab-df-convert\" onclick=\"convertToInteractive('df-f619dd34-7f86-4ebe-a157-cff38a7dbc2b')\"\n",
              "            title=\"Convert this dataframe to an interactive table.\"\n",
              "            style=\"display:none;\">\n",
              "\n",
              "  <svg xmlns=\"http://www.w3.org/2000/svg\" height=\"24px\" viewBox=\"0 -960 960 960\">\n",
              "    <path d=\"M120-120v-720h720v720H120Zm60-500h600v-160H180v160Zm220 220h160v-160H400v160Zm0 220h160v-160H400v160ZM180-400h160v-160H180v160Zm440 0h160v-160H620v160ZM180-180h160v-160H180v160Zm440 0h160v-160H620v160Z\"/>\n",
              "  </svg>\n",
              "    </button>\n",
              "\n",
              "  <style>\n",
              "    .colab-df-container {\n",
              "      display:flex;\n",
              "      gap: 12px;\n",
              "    }\n",
              "\n",
              "    .colab-df-convert {\n",
              "      background-color: #E8F0FE;\n",
              "      border: none;\n",
              "      border-radius: 50%;\n",
              "      cursor: pointer;\n",
              "      display: none;\n",
              "      fill: #1967D2;\n",
              "      height: 32px;\n",
              "      padding: 0 0 0 0;\n",
              "      width: 32px;\n",
              "    }\n",
              "\n",
              "    .colab-df-convert:hover {\n",
              "      background-color: #E2EBFA;\n",
              "      box-shadow: 0px 1px 2px rgba(60, 64, 67, 0.3), 0px 1px 3px 1px rgba(60, 64, 67, 0.15);\n",
              "      fill: #174EA6;\n",
              "    }\n",
              "\n",
              "    .colab-df-buttons div {\n",
              "      margin-bottom: 4px;\n",
              "    }\n",
              "\n",
              "    [theme=dark] .colab-df-convert {\n",
              "      background-color: #3B4455;\n",
              "      fill: #D2E3FC;\n",
              "    }\n",
              "\n",
              "    [theme=dark] .colab-df-convert:hover {\n",
              "      background-color: #434B5C;\n",
              "      box-shadow: 0px 1px 3px 1px rgba(0, 0, 0, 0.15);\n",
              "      filter: drop-shadow(0px 1px 2px rgba(0, 0, 0, 0.3));\n",
              "      fill: #FFFFFF;\n",
              "    }\n",
              "  </style>\n",
              "\n",
              "    <script>\n",
              "      const buttonEl =\n",
              "        document.querySelector('#df-f619dd34-7f86-4ebe-a157-cff38a7dbc2b button.colab-df-convert');\n",
              "      buttonEl.style.display =\n",
              "        google.colab.kernel.accessAllowed ? 'block' : 'none';\n",
              "\n",
              "      async function convertToInteractive(key) {\n",
              "        const element = document.querySelector('#df-f619dd34-7f86-4ebe-a157-cff38a7dbc2b');\n",
              "        const dataTable =\n",
              "          await google.colab.kernel.invokeFunction('convertToInteractive',\n",
              "                                                    [key], {});\n",
              "        if (!dataTable) return;\n",
              "\n",
              "        const docLinkHtml = 'Like what you see? Visit the ' +\n",
              "          '<a target=\"_blank\" href=https://colab.research.google.com/notebooks/data_table.ipynb>data table notebook</a>'\n",
              "          + ' to learn more about interactive tables.';\n",
              "        element.innerHTML = '';\n",
              "        dataTable['output_type'] = 'display_data';\n",
              "        await google.colab.output.renderOutput(dataTable, element);\n",
              "        const docLink = document.createElement('div');\n",
              "        docLink.innerHTML = docLinkHtml;\n",
              "        element.appendChild(docLink);\n",
              "      }\n",
              "    </script>\n",
              "  </div>\n",
              "\n",
              "\n",
              "<div id=\"df-b6956976-cfde-4417-8810-cf6c2ac4654f\">\n",
              "  <button class=\"colab-df-quickchart\" onclick=\"quickchart('df-b6956976-cfde-4417-8810-cf6c2ac4654f')\"\n",
              "            title=\"Suggest charts.\"\n",
              "            style=\"display:none;\">\n",
              "\n",
              "<svg xmlns=\"http://www.w3.org/2000/svg\" height=\"24px\"viewBox=\"0 0 24 24\"\n",
              "     width=\"24px\">\n",
              "    <g>\n",
              "        <path d=\"M19 3H5c-1.1 0-2 .9-2 2v14c0 1.1.9 2 2 2h14c1.1 0 2-.9 2-2V5c0-1.1-.9-2-2-2zM9 17H7v-7h2v7zm4 0h-2V7h2v10zm4 0h-2v-4h2v4z\"/>\n",
              "    </g>\n",
              "</svg>\n",
              "  </button>\n",
              "\n",
              "<style>\n",
              "  .colab-df-quickchart {\n",
              "      --bg-color: #E8F0FE;\n",
              "      --fill-color: #1967D2;\n",
              "      --hover-bg-color: #E2EBFA;\n",
              "      --hover-fill-color: #174EA6;\n",
              "      --disabled-fill-color: #AAA;\n",
              "      --disabled-bg-color: #DDD;\n",
              "  }\n",
              "\n",
              "  [theme=dark] .colab-df-quickchart {\n",
              "      --bg-color: #3B4455;\n",
              "      --fill-color: #D2E3FC;\n",
              "      --hover-bg-color: #434B5C;\n",
              "      --hover-fill-color: #FFFFFF;\n",
              "      --disabled-bg-color: #3B4455;\n",
              "      --disabled-fill-color: #666;\n",
              "  }\n",
              "\n",
              "  .colab-df-quickchart {\n",
              "    background-color: var(--bg-color);\n",
              "    border: none;\n",
              "    border-radius: 50%;\n",
              "    cursor: pointer;\n",
              "    display: none;\n",
              "    fill: var(--fill-color);\n",
              "    height: 32px;\n",
              "    padding: 0;\n",
              "    width: 32px;\n",
              "  }\n",
              "\n",
              "  .colab-df-quickchart:hover {\n",
              "    background-color: var(--hover-bg-color);\n",
              "    box-shadow: 0 1px 2px rgba(60, 64, 67, 0.3), 0 1px 3px 1px rgba(60, 64, 67, 0.15);\n",
              "    fill: var(--button-hover-fill-color);\n",
              "  }\n",
              "\n",
              "  .colab-df-quickchart-complete:disabled,\n",
              "  .colab-df-quickchart-complete:disabled:hover {\n",
              "    background-color: var(--disabled-bg-color);\n",
              "    fill: var(--disabled-fill-color);\n",
              "    box-shadow: none;\n",
              "  }\n",
              "\n",
              "  .colab-df-spinner {\n",
              "    border: 2px solid var(--fill-color);\n",
              "    border-color: transparent;\n",
              "    border-bottom-color: var(--fill-color);\n",
              "    animation:\n",
              "      spin 1s steps(1) infinite;\n",
              "  }\n",
              "\n",
              "  @keyframes spin {\n",
              "    0% {\n",
              "      border-color: transparent;\n",
              "      border-bottom-color: var(--fill-color);\n",
              "      border-left-color: var(--fill-color);\n",
              "    }\n",
              "    20% {\n",
              "      border-color: transparent;\n",
              "      border-left-color: var(--fill-color);\n",
              "      border-top-color: var(--fill-color);\n",
              "    }\n",
              "    30% {\n",
              "      border-color: transparent;\n",
              "      border-left-color: var(--fill-color);\n",
              "      border-top-color: var(--fill-color);\n",
              "      border-right-color: var(--fill-color);\n",
              "    }\n",
              "    40% {\n",
              "      border-color: transparent;\n",
              "      border-right-color: var(--fill-color);\n",
              "      border-top-color: var(--fill-color);\n",
              "    }\n",
              "    60% {\n",
              "      border-color: transparent;\n",
              "      border-right-color: var(--fill-color);\n",
              "    }\n",
              "    80% {\n",
              "      border-color: transparent;\n",
              "      border-right-color: var(--fill-color);\n",
              "      border-bottom-color: var(--fill-color);\n",
              "    }\n",
              "    90% {\n",
              "      border-color: transparent;\n",
              "      border-bottom-color: var(--fill-color);\n",
              "    }\n",
              "  }\n",
              "</style>\n",
              "\n",
              "  <script>\n",
              "    async function quickchart(key) {\n",
              "      const quickchartButtonEl =\n",
              "        document.querySelector('#' + key + ' button');\n",
              "      quickchartButtonEl.disabled = true;  // To prevent multiple clicks.\n",
              "      quickchartButtonEl.classList.add('colab-df-spinner');\n",
              "      try {\n",
              "        const charts = await google.colab.kernel.invokeFunction(\n",
              "            'suggestCharts', [key], {});\n",
              "      } catch (error) {\n",
              "        console.error('Error during call to suggestCharts:', error);\n",
              "      }\n",
              "      quickchartButtonEl.classList.remove('colab-df-spinner');\n",
              "      quickchartButtonEl.classList.add('colab-df-quickchart-complete');\n",
              "    }\n",
              "    (() => {\n",
              "      let quickchartButtonEl =\n",
              "        document.querySelector('#df-b6956976-cfde-4417-8810-cf6c2ac4654f button');\n",
              "      quickchartButtonEl.style.display =\n",
              "        google.colab.kernel.accessAllowed ? 'block' : 'none';\n",
              "    })();\n",
              "  </script>\n",
              "</div>\n",
              "    </div>\n",
              "  </div>\n"
            ]
          },
          "metadata": {},
          "execution_count": 50
        }
      ]
    },
    {
      "cell_type": "code",
      "source": [
        "exp = df[df['Experience with python (Months)'] == 8]['Leadership- skills'].count()\n",
        "print(f'Number of students with 8 month of experience in Python: {exp}')\n",
        "\n",
        "fam = df[df['Family Income'] == 800000]['Leadership- skills'].count()\n",
        "print(f'Number of students with max family income: {fam}')\n",
        "\n",
        "mar = df[df['CGPA'] == 9.9]['Leadership- skills'].count()\n",
        "print(f'Number of students with highest CGPA: {mar}')\n",
        "\n"
      ],
      "metadata": {
        "id": "r2Oo1BC266G2",
        "colab": {
          "base_uri": "https://localhost:8080/"
        },
        "outputId": "65ad194d-efd4-42b4-e96c-55e5828eb4da"
      },
      "execution_count": null,
      "outputs": [
        {
          "output_type": "stream",
          "name": "stdout",
          "text": [
            "Number of students with 8 month of experience in Python: 800\n",
            "Number of students with max family income: 89\n",
            "Number of students with highest CGPA: 128\n"
          ]
        }
      ]
    },
    {
      "cell_type": "code",
      "source": [
        "exp1 = df[df['Experience with python (Months)'] == 3]['Leadership- skills'].count()\n",
        "print(f'Number of students with 3 month of experience in Python: {exp1}')\n",
        "\n",
        "fam1 = df[df['Family Income'] == 100000]['Leadership- skills'].count()\n",
        "print(f'Number of students with lowest family income: {fam1}')\n",
        "\n",
        "mar1 = df[df['CGPA'] == 6.2]['Leadership- skills'].count()\n",
        "print(f'Number of students with min CGPA: {mar1}')"
      ],
      "metadata": {
        "id": "YkwSf5LD66D-",
        "colab": {
          "base_uri": "https://localhost:8080/"
        },
        "outputId": "29e8c5d9-45e9-4eb0-b007-69fa15a120af"
      },
      "execution_count": null,
      "outputs": [
        {
          "output_type": "stream",
          "name": "stdout",
          "text": [
            "Number of students with 3 month of experience in Python: 1008\n",
            "Number of students with lowest family income: 4525\n",
            "Number of students with min CGPA: 26\n"
          ]
        }
      ]
    },
    {
      "cell_type": "markdown",
      "source": [
        "#####  Insights\n",
        " - From above values we conclude having a diverse dataset with maximum student's family income 1LPA\n"
      ],
      "metadata": {
        "id": "6PvOAcCm5_ht"
      }
    },
    {
      "cell_type": "markdown",
      "source": [
        "### 4. Exploring Data ( Visualization )"
      ],
      "metadata": {
        "id": "_rKXO8N66oTU"
      }
    },
    {
      "cell_type": "code",
      "source": [
        "fig, axs = plt.subplots(1, 2, figsize=(15, 7))\n",
        "plt.subplot(121)\n",
        "sns.histplot(data=df,x='Expected salary (Lac)',bins=30,kde=True,color='g')\n",
        "plt.subplot(122)\n",
        "sns.histplot(data=df,x='Expected salary (Lac)',kde=True,hue='Leadership- skills')\n",
        "plt.show()"
      ],
      "metadata": {
        "colab": {
          "base_uri": "https://localhost:8080/",
          "height": 619
        },
        "id": "aIr53lts8Zlc",
        "outputId": "8f77c2a7-d76c-4c2c-e947-d5ee63996d9e"
      },
      "execution_count": null,
      "outputs": [
        {
          "output_type": "display_data",
          "data": {
            "text/plain": [
              "<Figure size 1500x700 with 2 Axes>"
            ],
            "image/png": "[encoded data removed]"
          },
          "metadata": {}
        }
      ]
    },
    {
      "cell_type": "code",
      "source": [
        "df.head()"
      ],
      "metadata": {
        "colab": {
          "base_uri": "https://localhost:8080/",
          "height": 625
        },
        "id": "Qbptwml7HMp0",
        "outputId": "9a5acbe3-2c38-4348-c502-97a1ff99abd4"
      },
      "execution_count": null,
      "outputs": [
        {
          "output_type": "execute_result",
          "data": {
            "text/plain": [
              "  First Name           Email ID  Quantity                  Events  \\\n",
              "0     ANIKET     aniket@xyz.com         1  Art of Resume Building   \n",
              "1  Dhanshree  dhanshree@xyz.com         1  Art of Resume Building   \n",
              "2     Dhiraj     dhiraj@xyz.com         1  Art of Resume Building   \n",
              "3      Pooja      pooja@xyz.com         1  Art of Resume Building   \n",
              "4     Aayush     aayush@xyz.com         1  Art of Resume Building   \n",
              "\n",
              "  Attendee Status                                       College Name  \\\n",
              "0       Attending  D Y PATIL INSTITUTE OF MCA AND MANAGEMENT AKUR...   \n",
              "1       Attending                   AP SHAH INSTITUTE OF TECHNOLOGY    \n",
              "2       Attending       Don Bosco College of Engineering Fatorda Goa   \n",
              "3       Attending           Pillai College of Engineering New Panvel   \n",
              "4       Attending                               St Xavier's College    \n",
              "\n",
              "        How did you come to know about this event?  \\\n",
              "0                                            Email   \n",
              "1                                           Others   \n",
              "2                                            Email   \n",
              "3                                            Email   \n",
              "4  Instagram | LinkedIn | Cloud Counselage Website   \n",
              "\n",
              "  Specify in \"Others\" (how did you come to know about this event)  \\\n",
              "0                                                NaN                \n",
              "1                                            College                \n",
              "2                                                NaN                \n",
              "3                                                NaN                \n",
              "4                                                NaN                \n",
              "\n",
              "  Final Source Designation  Year of Graduation       City  CGPA  \\\n",
              "0        Email    Students                2024      Patna   6.7   \n",
              "1      College    Students                2024   Amravati   8.2   \n",
              "2        Email    Students                2023    Kunrool   6.5   \n",
              "3        Email    Students                2025   Tirupati   8.7   \n",
              "4    Instagram    Students                2024  Vijaywada   9.1   \n",
              "\n",
              "   Experience with python (Months)  Family Income  Expected salary (Lac)  \\\n",
              "0                                7         800000                      6   \n",
              "1                                3         100000                      7   \n",
              "2                                4         600000                      7   \n",
              "3                                7         350000                      8   \n",
              "4                                3         100000                     10   \n",
              "\n",
              "  Leadership- skills  \n",
              "0                yes  \n",
              "1                 no  \n",
              "2                 no  \n",
              "3                 no  \n",
              "4                yes  "
            ],
            "text/html": [
              "\n",
              "  <div id=\"df-aa06ec04-2ad0-4fcb-bdc7-9bf6495836f5\" class=\"colab-df-container\">\n",
              "    <div>\n",
              "<style scoped>\n",
              "    .dataframe tbody tr th:only-of-type {\n",
              "        vertical-align: middle;\n",
              "    }\n",
              "\n",
              "    .dataframe tbody tr th {\n",
              "        vertical-align: top;\n",
              "    }\n",
              "\n",
              "    .dataframe thead th {\n",
              "        text-align: right;\n",
              "    }\n",
              "</style>\n",
              "<table border=\"1\" class=\"dataframe\">\n",
              "  <thead>\n",
              "    <tr style=\"text-align: right;\">\n",
              "      <th></th>\n",
              "      <th>First Name</th>\n",
              "      <th>Email ID</th>\n",
              "      <th>Quantity</th>\n",
              "      <th>Events</th>\n",
              "      <th>Attendee Status</th>\n",
              "      <th>College Name</th>\n",
              "      <th>How did you come to know about this event?</th>\n",
              "      <th>Specify in \"Others\" (how did you come to know about this event)</th>\n",
              "      <th>Final Source</th>\n",
              "      <th>Designation</th>\n",
              "      <th>Year of Graduation</th>\n",
              "      <th>City</th>\n",
              "      <th>CGPA</th>\n",
              "      <th>Experience with python (Months)</th>\n",
              "      <th>Family Income</th>\n",
              "      <th>Expected salary (Lac)</th>\n",
              "      <th>Leadership- skills</th>\n",
              "    </tr>\n",
              "  </thead>\n",
              "  <tbody>\n",
              "    <tr>\n",
              "      <th>0</th>\n",
              "      <td>ANIKET</td>\n",
              "      <td>aniket@xyz.com</td>\n",
              "      <td>1</td>\n",
              "      <td>Art of Resume Building</td>\n",
              "      <td>Attending</td>\n",
              "      <td>D Y PATIL INSTITUTE OF MCA AND MANAGEMENT AKUR...</td>\n",
              "      <td>Email</td>\n",
              "      <td>NaN</td>\n",
              "      <td>Email</td>\n",
              "      <td>Students</td>\n",
              "      <td>2024</td>\n",
              "      <td>Patna</td>\n",
              "      <td>6.7</td>\n",
              "      <td>7</td>\n",
              "      <td>800000</td>\n",
              "      <td>6</td>\n",
              "      <td>yes</td>\n",
              "    </tr>\n",
              "    <tr>\n",
              "      <th>1</th>\n",
              "      <td>Dhanshree</td>\n",
              "      <td>dhanshree@xyz.com</td>\n",
              "      <td>1</td>\n",
              "      <td>Art of Resume Building</td>\n",
              "      <td>Attending</td>\n",
              "      <td>AP SHAH INSTITUTE OF TECHNOLOGY</td>\n",
              "      <td>Others</td>\n",
              "      <td>College</td>\n",
              "      <td>College</td>\n",
              "      <td>Students</td>\n",
              "      <td>2024</td>\n",
              "      <td>Amravati</td>\n",
              "      <td>8.2</td>\n",
              "      <td>3</td>\n",
              "      <td>100000</td>\n",
              "      <td>7</td>\n",
              "      <td>no</td>\n",
              "    </tr>\n",
              "    <tr>\n",
              "      <th>2</th>\n",
              "      <td>Dhiraj</td>\n",
              "      <td>dhiraj@xyz.com</td>\n",
              "      <td>1</td>\n",
              "      <td>Art of Resume Building</td>\n",
              "      <td>Attending</td>\n",
              "      <td>Don Bosco College of Engineering Fatorda Goa</td>\n",
              "      <td>Email</td>\n",
              "      <td>NaN</td>\n",
              "      <td>Email</td>\n",
              "      <td>Students</td>\n",
              "      <td>2023</td>\n",
              "      <td>Kunrool</td>\n",
              "      <td>6.5</td>\n",
              "      <td>4</td>\n",
              "      <td>600000</td>\n",
              "      <td>7</td>\n",
              "      <td>no</td>\n",
              "    </tr>\n",
              "    <tr>\n",
              "      <th>3</th>\n",
              "      <td>Pooja</td>\n",
              "      <td>pooja@xyz.com</td>\n",
              "      <td>1</td>\n",
              "      <td>Art of Resume Building</td>\n",
              "      <td>Attending</td>\n",
              "      <td>Pillai College of Engineering New Panvel</td>\n",
              "      <td>Email</td>\n",
              "      <td>NaN</td>\n",
              "      <td>Email</td>\n",
              "      <td>Students</td>\n",
              "      <td>2025</td>\n",
              "      <td>Tirupati</td>\n",
              "      <td>8.7</td>\n",
              "      <td>7</td>\n",
              "      <td>350000</td>\n",
              "      <td>8</td>\n",
              "      <td>no</td>\n",
              "    </tr>\n",
              "    <tr>\n",
              "      <th>4</th>\n",
              "      <td>Aayush</td>\n",
              "      <td>aayush@xyz.com</td>\n",
              "      <td>1</td>\n",
              "      <td>Art of Resume Building</td>\n",
              "      <td>Attending</td>\n",
              "      <td>St Xavier's College</td>\n",
              "      <td>Instagram | LinkedIn | Cloud Counselage Website</td>\n",
              "      <td>NaN</td>\n",
              "      <td>Instagram</td>\n",
              "      <td>Students</td>\n",
              "      <td>2024</td>\n",
              "      <td>Vijaywada</td>\n",
              "      <td>9.1</td>\n",
              "      <td>3</td>\n",
              "      <td>100000</td>\n",
              "      <td>10</td>\n",
              "      <td>yes</td>\n",
              "    </tr>\n",
              "  </tbody>\n",
              "</table>\n",
              "</div>\n",
              "    <div class=\"colab-df-buttons\">\n",
              "\n",
              "  <div class=\"colab-df-container\">\n",
              "    <button class=\"colab-df-convert\" onclick=\"convertToInteractive('df-aa06ec04-2ad0-4fcb-bdc7-9bf6495836f5')\"\n",
              "            title=\"Convert this dataframe to an interactive table.\"\n",
              "            style=\"display:none;\">\n",
              "\n",
              "  <svg xmlns=\"http://www.w3.org/2000/svg\" height=\"24px\" viewBox=\"0 -960 960 960\">\n",
              "    <path d=\"M120-120v-720h720v720H120Zm60-500h600v-160H180v160Zm220 220h160v-160H400v160Zm0 220h160v-160H400v160ZM180-400h160v-160H180v160Zm440 0h160v-160H620v160ZM180-180h160v-160H180v160Zm440 0h160v-160H620v160Z\"/>\n",
              "  </svg>\n",
              "    </button>\n",
              "\n",
              "  <style>\n",
              "    .colab-df-container {\n",
              "      display:flex;\n",
              "      gap: 12px;\n",
              "    }\n",
              "\n",
              "    .colab-df-convert {\n",
              "      background-color: #E8F0FE;\n",
              "      border: none;\n",
              "      border-radius: 50%;\n",
              "      cursor: pointer;\n",
              "      display: none;\n",
              "      fill: #1967D2;\n",
              "      height: 32px;\n",
              "      padding: 0 0 0 0;\n",
              "      width: 32px;\n",
              "    }\n",
              "\n",
              "    .colab-df-convert:hover {\n",
              "      background-color: #E2EBFA;\n",
              "      box-shadow: 0px 1px 2px rgba(60, 64, 67, 0.3), 0px 1px 3px 1px rgba(60, 64, 67, 0.15);\n",
              "      fill: #174EA6;\n",
              "    }\n",
              "\n",
              "    .colab-df-buttons div {\n",
              "      margin-bottom: 4px;\n",
              "    }\n",
              "\n",
              "    [theme=dark] .colab-df-convert {\n",
              "      background-color: #3B4455;\n",
              "      fill: #D2E3FC;\n",
              "    }\n",
              "\n",
              "    [theme=dark] .colab-df-convert:hover {\n",
              "      background-color: #434B5C;\n",
              "      box-shadow: 0px 1px 3px 1px rgba(0, 0, 0, 0.15);\n",
              "      filter: drop-shadow(0px 1px 2px rgba(0, 0, 0, 0.3));\n",
              "      fill: #FFFFFF;\n",
              "    }\n",
              "  </style>\n",
              "\n",
              "    <script>\n",
              "      const buttonEl =\n",
              "        document.querySelector('#df-aa06ec04-2ad0-4fcb-bdc7-9bf6495836f5 button.colab-df-convert');\n",
              "      buttonEl.style.display =\n",
              "        google.colab.kernel.accessAllowed ? 'block' : 'none';\n",
              "\n",
              "      async function convertToInteractive(key) {\n",
              "        const element = document.querySelector('#df-aa06ec04-2ad0-4fcb-bdc7-9bf6495836f5');\n",
              "        const dataTable =\n",
              "          await google.colab.kernel.invokeFunction('convertToInteractive',\n",
              "                                                    [key], {});\n",
              "        if (!dataTable) return;\n",
              "\n",
              "        const docLinkHtml = 'Like what you see? Visit the ' +\n",
              "          '<a target=\"_blank\" href=https://colab.research.google.com/notebooks/data_table.ipynb>data table notebook</a>'\n",
              "          + ' to learn more about interactive tables.';\n",
              "        element.innerHTML = '';\n",
              "        dataTable['output_type'] = 'display_data';\n",
              "        await google.colab.output.renderOutput(dataTable, element);\n",
              "        const docLink = document.createElement('div');\n",
              "        docLink.innerHTML = docLinkHtml;\n",
              "        element.appendChild(docLink);\n",
              "      }\n",
              "    </script>\n",
              "  </div>\n",
              "\n",
              "\n",
              "<div id=\"df-5731696b-8994-4354-8fc8-54b94e589ff1\">\n",
              "  <button class=\"colab-df-quickchart\" onclick=\"quickchart('df-5731696b-8994-4354-8fc8-54b94e589ff1')\"\n",
              "            title=\"Suggest charts.\"\n",
              "            style=\"display:none;\">\n",
              "\n",
              "<svg xmlns=\"http://www.w3.org/2000/svg\" height=\"24px\"viewBox=\"0 0 24 24\"\n",
              "     width=\"24px\">\n",
              "    <g>\n",
              "        <path d=\"M19 3H5c-1.1 0-2 .9-2 2v14c0 1.1.9 2 2 2h14c1.1 0 2-.9 2-2V5c0-1.1-.9-2-2-2zM9 17H7v-7h2v7zm4 0h-2V7h2v10zm4 0h-2v-4h2v4z\"/>\n",
              "    </g>\n",
              "</svg>\n",
              "  </button>\n",
              "\n",
              "<style>\n",
              "  .colab-df-quickchart {\n",
              "      --bg-color: #E8F0FE;\n",
              "      --fill-color: #1967D2;\n",
              "      --hover-bg-color: #E2EBFA;\n",
              "      --hover-fill-color: #174EA6;\n",
              "      --disabled-fill-color: #AAA;\n",
              "      --disabled-bg-color: #DDD;\n",
              "  }\n",
              "\n",
              "  [theme=dark] .colab-df-quickchart {\n",
              "      --bg-color: #3B4455;\n",
              "      --fill-color: #D2E3FC;\n",
              "      --hover-bg-color: #434B5C;\n",
              "      --hover-fill-color: #FFFFFF;\n",
              "      --disabled-bg-color: #3B4455;\n",
              "      --disabled-fill-color: #666;\n",
              "  }\n",
              "\n",
              "  .colab-df-quickchart {\n",
              "    background-color: var(--bg-color);\n",
              "    border: none;\n",
              "    border-radius: 50%;\n",
              "    cursor: pointer;\n",
              "    display: none;\n",
              "    fill: var(--fill-color);\n",
              "    height: 32px;\n",
              "    padding: 0;\n",
              "    width: 32px;\n",
              "  }\n",
              "\n",
              "  .colab-df-quickchart:hover {\n",
              "    background-color: var(--hover-bg-color);\n",
              "    box-shadow: 0 1px 2px rgba(60, 64, 67, 0.3), 0 1px 3px 1px rgba(60, 64, 67, 0.15);\n",
              "    fill: var(--button-hover-fill-color);\n",
              "  }\n",
              "\n",
              "  .colab-df-quickchart-complete:disabled,\n",
              "  .colab-df-quickchart-complete:disabled:hover {\n",
              "    background-color: var(--disabled-bg-color);\n",
              "    fill: var(--disabled-fill-color);\n",
              "    box-shadow: none;\n",
              "  }\n",
              "\n",
              "  .colab-df-spinner {\n",
              "    border: 2px solid var(--fill-color);\n",
              "    border-color: transparent;\n",
              "    border-bottom-color: var(--fill-color);\n",
              "    animation:\n",
              "      spin 1s steps(1) infinite;\n",
              "  }\n",
              "\n",
              "  @keyframes spin {\n",
              "    0% {\n",
              "      border-color: transparent;\n",
              "      border-bottom-color: var(--fill-color);\n",
              "      border-left-color: var(--fill-color);\n",
              "    }\n",
              "    20% {\n",
              "      border-color: transparent;\n",
              "      border-left-color: var(--fill-color);\n",
              "      border-top-color: var(--fill-color);\n",
              "    }\n",
              "    30% {\n",
              "      border-color: transparent;\n",
              "      border-left-color: var(--fill-color);\n",
              "      border-top-color: var(--fill-color);\n",
              "      border-right-color: var(--fill-color);\n",
              "    }\n",
              "    40% {\n",
              "      border-color: transparent;\n",
              "      border-right-color: var(--fill-color);\n",
              "      border-top-color: var(--fill-color);\n",
              "    }\n",
              "    60% {\n",
              "      border-color: transparent;\n",
              "      border-right-color: var(--fill-color);\n",
              "    }\n",
              "    80% {\n",
              "      border-color: transparent;\n",
              "      border-right-color: var(--fill-color);\n",
              "      border-bottom-color: var(--fill-color);\n",
              "    }\n",
              "    90% {\n",
              "      border-color: transparent;\n",
              "      border-bottom-color: var(--fill-color);\n",
              "    }\n",
              "  }\n",
              "</style>\n",
              "\n",
              "  <script>\n",
              "    async function quickchart(key) {\n",
              "      const quickchartButtonEl =\n",
              "        document.querySelector('#' + key + ' button');\n",
              "      quickchartButtonEl.disabled = true;  // To prevent multiple clicks.\n",
              "      quickchartButtonEl.classList.add('colab-df-spinner');\n",
              "      try {\n",
              "        const charts = await google.colab.kernel.invokeFunction(\n",
              "            'suggestCharts', [key], {});\n",
              "      } catch (error) {\n",
              "        console.error('Error during call to suggestCharts:', error);\n",
              "      }\n",
              "      quickchartButtonEl.classList.remove('colab-df-spinner');\n",
              "      quickchartButtonEl.classList.add('colab-df-quickchart-complete');\n",
              "    }\n",
              "    (() => {\n",
              "      let quickchartButtonEl =\n",
              "        document.querySelector('#df-5731696b-8994-4354-8fc8-54b94e589ff1 button');\n",
              "      quickchartButtonEl.style.display =\n",
              "        google.colab.kernel.accessAllowed ? 'block' : 'none';\n",
              "    })();\n",
              "  </script>\n",
              "</div>\n",
              "    </div>\n",
              "  </div>\n"
            ]
          },
          "metadata": {},
          "execution_count": 54
        }
      ]
    },
    {
      "cell_type": "code",
      "source": [
        "plt.rcParams['figure.figsize'] = (30, 12)\n",
        "\n",
        "plt.subplot(1, 5, 1)\n",
        "size = df['Leadership- skills'].value_counts()\n",
        "labels = 'Yes', 'No'\n",
        "color = ['red','green']\n",
        "\n",
        "\n",
        "plt.pie(size, colors = color, labels = labels,autopct = '%.2f%%')\n",
        "plt.title('Leadership', fontsize = 20)\n",
        "plt.axis('off')\n",
        "\n",
        "\n",
        "\n",
        "plt.subplot(1, 5, 2)\n",
        "size = df['Family Income'].value_counts()\n",
        "labels = '1L', '3.5L','6L','8L'\n",
        "color = ['red', 'green', 'blue','orange']\n",
        "\n",
        "plt.pie(size, colors = color,labels = labels,autopct = '%.2f%%')\n",
        "plt.title('Family Income', fontsize = 20)\n",
        "plt.axis('off')\n",
        "\n",
        "\n",
        "# plt.subplot(1, 5, 3)\n",
        "# size = df['lunch'].value_counts()\n",
        "# labels = 'Standard', 'Free'\n",
        "# color = ['red','green']\n",
        "\n",
        "# plt.pie(size, colors = color,labels = labels,autopct = '.%2f%%')\n",
        "# plt.title('Lunch', fontsize = 20)\n",
        "# plt.axis('off')\n",
        "\n",
        "\n",
        "# plt.subplot(1, 5, 4)\n",
        "# size = df['test_preparation_course'].value_counts()\n",
        "# labels = 'None', 'Completed'\n",
        "# color = ['red','green']\n",
        "\n",
        "# plt.pie(size, colors = color,labels = labels,autopct = '.%2f%%')\n",
        "# plt.title('Test Course', fontsize = 20)\n",
        "# plt.axis('off')\n",
        "\n",
        "\n",
        "# plt.subplot(1, 5, 5)\n",
        "# size = df['parental_level_of_education'].value_counts()\n",
        "# labels = 'Some College', \"Associate's Degree\",'High School','Some High School',\"Bachelor's Degree\",\"Master's Degree\"\n",
        "# color = ['red', 'green', 'blue', 'cyan','orange','grey']\n",
        "\n",
        "# plt.pie(size, colors = color,labels = labels,autopct = '.%2f%%')\n",
        "# plt.title('Parental Education', fontsize = 20)\n",
        "# plt.axis('off')\n",
        "\n",
        "\n",
        "plt.tight_layout()\n",
        "plt.grid()\n",
        "\n",
        "plt.show()"
      ],
      "metadata": {
        "colab": {
          "base_uri": "https://localhost:8080/",
          "height": 649
        },
        "id": "zBfSZN6eHIES",
        "outputId": "aa229047-e347-4dc8-c96c-e2bd809dacdf"
      },
      "execution_count": null,
      "outputs": [
        {
          "output_type": "display_data",
          "data": {
            "text/plain": [
              "<Figure size 3000x1200 with 2 Axes>"
            ],
            "image/png": "[encoded data removed]"
          },
          "metadata": {}
        }
      ]
    },
    {
      "cell_type": "markdown",
      "source": [
        "# Q.1 No of unique students in dataset\n"
      ],
      "metadata": {
        "id": "DYCsH4HcC2VY"
      }
    },
    {
      "cell_type": "code",
      "source": [
        "# Consedering email id as primary key\n",
        "df['Email ID'].nunique()\n"
      ],
      "metadata": {
        "colab": {
          "base_uri": "https://localhost:8080/"
        },
        "id": "SI8nAKpQwxBX",
        "outputId": "fda3b591-bfc0-4515-9779-1409e30691fc"
      },
      "execution_count": null,
      "outputs": [
        {
          "output_type": "execute_result",
          "data": {
            "text/plain": [
              "2157"
            ]
          },
          "metadata": {},
          "execution_count": 56
        }
      ]
    },
    {
      "cell_type": "markdown",
      "source": [
        "Explanation:\n",
        "nunique() function counts the number of unique entries, therefore in all there are 2157 unique students in the dataset.\n"
      ],
      "metadata": {
        "id": "runwn-ePL19H"
      }
    },
    {
      "cell_type": "markdown",
      "source": [
        "# Q2. Avg CGPA of students\n"
      ],
      "metadata": {
        "id": "gERlCWOEC7uA"
      }
    },
    {
      "cell_type": "code",
      "source": [
        "'''Since many students have entered different CGPA for different event\n",
        "so taking avg for each student then taking complete avg of entire data'''\n",
        "\n",
        "# Grouping data by primary key(email id) and calculate average CGPA\n",
        "grouped_data = df.groupby('Email ID')['CGPA'].mean()\n",
        "\n",
        "# Convert the result back to a DataFrame\n",
        "average_cgpa_data = grouped_data.reset_index()\n",
        "\n",
        "# Print the resulting DataFrame\n",
        "print('AVG CGPA of all students: \\n')\n",
        "print(average_cgpa_data)\n",
        "print()\n",
        "print('Overall AVG CGPA: \\n')\n",
        "print(average_cgpa_data['CGPA'].mean())"
      ],
      "metadata": {
        "colab": {
          "base_uri": "https://localhost:8080/"
        },
        "id": "Y_3ntK-2wCYU",
        "outputId": "b49cb9c0-442a-4eee-8ebb-3c9d4b913f11"
      },
      "execution_count": null,
      "outputs": [
        {
          "output_type": "stream",
          "name": "stdout",
          "text": [
            "AVG CGPA of all students: \n",
            "\n",
            "               Email ID  CGPA\n",
            "0       10pawan@xyz.com  7.30\n",
            "1      Shubhada@xyz.com  7.50\n",
            "2       aaditya@xyz.com  7.30\n",
            "3        aaftab@xyz.com  7.30\n",
            "4     aakanksha@xyz.com  8.10\n",
            "...                 ...   ...\n",
            "2152       zeel@xyz.com  7.95\n",
            "2153     zeenal@xyz.com  7.60\n",
            "2154      zobia@xyz.com  6.50\n",
            "2155       zoya@xyz.com  7.90\n",
            "2156     zulema@xyz.com  8.10\n",
            "\n",
            "[2157 rows x 2 columns]\n",
            "\n",
            "Overall AVG CGPA: \n",
            "\n",
            "8.039655011464745\n"
          ]
        }
      ]
    },
    {
      "cell_type": "markdown",
      "source": [
        "Explanation:\n",
        "Multiple entries of same students should have the same CGPA but its not the case here so we are grouping by email id and then taking average of cgpa for a particular student this will overcome the issue of multiple entries and then we are taking overall average for all 2157 students.\n"
      ],
      "metadata": {
        "id": "HCbi2gmdL99Q"
      }
    },
    {
      "cell_type": "markdown",
      "source": [
        "#Q3. Distribution of students across different graduation years"
      ],
      "metadata": {
        "id": "iQP8HHESDK0S"
      }
    },
    {
      "cell_type": "code",
      "source": [
        "# Select the maximum graduation year for each unique email ID\n",
        "unique_years = df.groupby('Email ID')['Year of Graduation'].max()\n",
        "\n",
        "# Calculate the distribution of students across different graduation years\n",
        "year_distribution = unique_years.value_counts().sort_index()\n",
        "\n",
        "# Convert the result to a DataFrame\n",
        "year_distribution_data = pd.DataFrame({'Year of Graduation': year_distribution.index, 'Student Count': year_distribution.values})\n",
        "\n",
        "# Print the resulting DataFrame\n",
        "print(year_distribution_data)"
      ],
      "metadata": {
        "colab": {
          "base_uri": "https://localhost:8080/"
        },
        "id": "EyRZc6EPwS5l",
        "outputId": "adbe4512-588f-4eb1-d85f-c629411d870e"
      },
      "execution_count": null,
      "outputs": [
        {
          "output_type": "stream",
          "name": "stdout",
          "text": [
            "   Year of Graduation  Student Count\n",
            "0                2023            392\n",
            "1                2024            574\n",
            "2                2025            727\n",
            "3                2026            464\n"
          ]
        }
      ]
    },
    {
      "cell_type": "code",
      "source": [
        "# Plotting the distribution using a bar plot\n",
        "plt.figure(figsize=(8, 6))\n",
        "bars = plt.bar(year_distribution_data['Year of Graduation'], year_distribution_data['Student Count'])\n",
        "plt.xlabel('Year of Graduation')\n",
        "plt.ylabel('Student Count')\n",
        "plt.title('Distribution of Students Across Different Graduation Years')\n",
        "plt.xticks([int(year) for year in year_distribution_data['Year of Graduation']])\n",
        "for bar in bars:\n",
        "    yval = bar.get_height()\n",
        "    plt.text(bar.get_x() + bar.get_width()/2, yval, round(yval, 2), ha='center', va='bottom')\n",
        "plt.tight_layout()\n",
        "plt.show()\n"
      ],
      "metadata": {
        "colab": {
          "base_uri": "https://localhost:8080/",
          "height": 607
        },
        "id": "Dx57jHVzwf56",
        "outputId": "e142fcdb-00d8-4d62-84d5-312597ac8dda"
      },
      "execution_count": null,
      "outputs": [
        {
          "output_type": "display_data",
          "data": {
            "text/plain": [
              "<Figure size 800x600 with 1 Axes>"
            ],
            "image/png": "[encoded data removed]"
          },
          "metadata": {}
        }
      ]
    },
    {
      "cell_type": "markdown",
      "source": [
        "#Q4. Distribution of Student's Experience with python programming"
      ],
      "metadata": {
        "id": "mVl7FkrhDSxk"
      }
    },
    {
      "cell_type": "code",
      "source": [
        "grouped_py = df.groupby('Email ID')['Experience with python (Months)'].apply(lambda x: x.mode().iloc[0])\n",
        "month_distribution = grouped_py.value_counts().sort_index()\n",
        "month_distribution_data = pd.DataFrame({'Experience': month_distribution.index, 'Student Count': month_distribution.values})\n",
        "month_distribution_data = month_distribution_data.sort_values(by='Student Count', ascending=False)\n",
        "print(month_distribution_data)"
      ],
      "metadata": {
        "colab": {
          "base_uri": "https://localhost:8080/"
        },
        "id": "LvCa83OQ8WpZ",
        "outputId": "4cc43917-db5b-4e03-f732-864741539b7d"
      },
      "execution_count": null,
      "outputs": [
        {
          "output_type": "stream",
          "name": "stdout",
          "text": [
            "   Experience  Student Count\n",
            "0           3            618\n",
            "2           5            600\n",
            "1           4            286\n",
            "4           7            284\n",
            "3           6            221\n",
            "5           8            148\n"
          ]
        }
      ]
    },
    {
      "cell_type": "code",
      "source": [
        "plt.figure(figsize=(8,6))\n",
        "explode = [0.1 if i==0 else 0 for i in range(len(month_distribution_data))]\n",
        "plt.pie(month_distribution_data['Student Count'], labels=month_distribution_data['Experience'], autopct = '%1.1f%%', startangle =90, explode = explode)\n",
        "# plt.legend(title='Experience', loc='upper right', labels=month_distribution_data['Experience'])\n",
        "plt.title(\"Distribution of student's experience with Python Programming\")\n",
        "plt.show()"
      ],
      "metadata": {
        "colab": {
          "base_uri": "https://localhost:8080/",
          "height": 521
        },
        "id": "DqXkHvPX8aHc",
        "outputId": "3b5d9f8f-62e3-4dc7-e203-da4e63a90e93"
      },
      "execution_count": null,
      "outputs": [
        {
          "output_type": "display_data",
          "data": {
            "text/plain": [
              "<Figure size 800x600 with 1 Axes>"
            ],
            "image/png": "[encoded data removed]"
          },
          "metadata": {}
        }
      ]
    },
    {
      "cell_type": "markdown",
      "source": [
        "#Q5. Avg Family Income of student"
      ],
      "metadata": {
        "id": "g1yJbAv4Ib7a"
      }
    },
    {
      "cell_type": "code",
      "source": [
        "# Calculate average family income for each student\n",
        "average_family_income = df.groupby('Email ID')['Family Income'].mean()\n",
        "\n",
        "# Calculate overall average family income\n",
        "overall_average_income = average_family_income.mean()\n",
        "\n",
        "# Print the resulting averages\n",
        "print(\"Average Family Income for Each Student:\")\n",
        "print(average_family_income)\n",
        "print(\"\\nOverall Average Family Income for Students:\", overall_average_income)\n"
      ],
      "metadata": {
        "colab": {
          "base_uri": "https://localhost:8080/"
        },
        "id": "YWqJBA8S7-0f",
        "outputId": "1511fd92-4308-4c4c-d457-6b97f9859cc1"
      },
      "execution_count": null,
      "outputs": [
        {
          "output_type": "stream",
          "name": "stdout",
          "text": [
            "Average Family Income for Each Student:\n",
            "Email ID\n",
            "10pawan@xyz.com      100000.000000\n",
            "Shubhada@xyz.com     100000.000000\n",
            "aaditya@xyz.com      100000.000000\n",
            "aaftab@xyz.com       100000.000000\n",
            "aakanksha@xyz.com    416666.666667\n",
            "                         ...      \n",
            "zeel@xyz.com         225000.000000\n",
            "zeenal@xyz.com       100000.000000\n",
            "zobia@xyz.com        100000.000000\n",
            "zoya@xyz.com         100000.000000\n",
            "zulema@xyz.com       100000.000000\n",
            "Name: Family Income, Length: 2157, dtype: float64\n",
            "\n",
            "Overall Average Family Income for Students: 130290.02800927126\n"
          ]
        }
      ]
    },
    {
      "cell_type": "markdown",
      "source": [
        "#Q6. Variation of GPA among top-5 colleges"
      ],
      "metadata": {
        "id": "6Bzx9ZKsJ9tk"
      }
    },
    {
      "cell_type": "code",
      "source": [
        "avg_gpa_by_col = df.groupby('College Name')['CGPA'].mean()\n",
        "sorted_colleges = avg_gpa_by_col.sort_values(ascending = False)\n",
        "top_5 = sorted_colleges.head(5)\n",
        "\n",
        "print(\"TOP 5 colleges by avg CGPA:\\n\")\n",
        "print(top_5)"
      ],
      "metadata": {
        "colab": {
          "base_uri": "https://localhost:8080/"
        },
        "id": "1QIuc611GmiB",
        "outputId": "a18b072a-3dd0-40e8-f833-b8abf4219396"
      },
      "execution_count": null,
      "outputs": [
        {
          "output_type": "stream",
          "name": "stdout",
          "text": [
            "TOP 5 colleges by avg CGPA:\n",
            "\n",
            "College Name\n",
            "THAKUR INSTITUTE OF MANAGEMENT STUDIES, CAREER DEVELOPMENT & RESEARCH - [TIMSCDR]    8.585714\n",
            "St Xavier's College                                                                  8.578571\n",
            "B. K. Birla College of Arts, Science & Commerce (Autonomous), Kalyan                 8.456410\n",
            "Symbiosis Institute of Technology, Pune                                              8.303448\n",
            "AP SHAH INSTITUTE OF TECHNOLOGY                                                      8.283333\n",
            "Name: CGPA, dtype: float64\n"
          ]
        }
      ]
    },
    {
      "cell_type": "code",
      "source": [
        "plt.figure(figsize=(20,12))\n",
        "top_5.plot(kind='bar')\n",
        "plt.xlabel(\"College Name\")\n",
        "plt.ylabel(\"Avg CGPA\")\n",
        "plt.title(\"Top 5 Colleges by CGPA\")\n",
        "plt.xticks(rotation=45)\n",
        "plt.tight_layout()\n",
        "plt.show()"
      ],
      "metadata": {
        "colab": {
          "base_uri": "https://localhost:8080/",
          "height": 916
        },
        "id": "JUFq2T1NLAQ2",
        "outputId": "604d3abc-e77e-4444-fbbf-8b7a8ad9e35b"
      },
      "execution_count": null,
      "outputs": [
        {
          "output_type": "display_data",
          "data": {
            "text/plain": [
              "<Figure size 2000x1200 with 1 Axes>"
            ],
            "image/png": "[encoded data removed]"
          },
          "metadata": {}
        }
      ]
    },
    {
      "cell_type": "markdown",
      "source": [
        "#Q7. Are there any outlier in the column completed courses/quantity?"
      ],
      "metadata": {
        "id": "yxTCG2y2MwQU"
      }
    },
    {
      "cell_type": "code",
      "source": [
        "df['Quantity'].value_counts()\n"
      ],
      "metadata": {
        "colab": {
          "base_uri": "https://localhost:8080/"
        },
        "id": "W1S4j4ESLLbR",
        "outputId": "4603bdcc-4d13-4d22-c908-9f494bc0ffb5"
      },
      "execution_count": null,
      "outputs": [
        {
          "output_type": "execute_result",
          "data": {
            "text/plain": [
              "1    4894\n",
              "Name: Quantity, dtype: int64"
            ]
          },
          "metadata": {},
          "execution_count": 65
        }
      ]
    },
    {
      "cell_type": "code",
      "source": [
        "plt.figure(figsize=(4, 4))\n",
        "plt.boxplot(df['Quantity'])\n",
        "plt.title('Box Plot to Check for Outliers')\n",
        "plt.ylabel('Quantity')\n",
        "plt.show()"
      ],
      "metadata": {
        "colab": {
          "base_uri": "https://localhost:8080/",
          "height": 391
        },
        "id": "eS_CG5a6NGk8",
        "outputId": "f91a0694-75f1-4cdc-9802-d7ebc531245e"
      },
      "execution_count": null,
      "outputs": [
        {
          "output_type": "display_data",
          "data": {
            "text/plain": [
              "<Figure size 400x400 with 1 Axes>"
            ],
            "image/png": "[encoded data removed]"
          },
          "metadata": {}
        }
      ]
    },
    {
      "cell_type": "markdown",
      "source": [
        "If the 'quantity' attribute indicates the number of completed courses,\n",
        "and all recorded values are 1,then there is no outlier but this suggests\n",
        "that all students in the dataset have completed only one course.\n",
        "As a result, this attribute may not offer meaningful variation for analysis,\n",
        "since there is no diversity in the number of courses completed among the students."
      ],
      "metadata": {
        "id": "gGqecPwTMf0M"
      }
    },
    {
      "cell_type": "markdown",
      "source": [
        "#Q8. AVG CGPA for each city"
      ],
      "metadata": {
        "id": "LQkDnp8SQSe9"
      }
    },
    {
      "cell_type": "code",
      "source": [
        "avg_gpa_by_city = df.groupby('City')['CGPA'].mean()\n",
        "avg_gpa_by_city"
      ],
      "metadata": {
        "colab": {
          "base_uri": "https://localhost:8080/"
        },
        "id": "4f6G1IdHPa6P",
        "outputId": "6eca573e-a0ee-4add-9e72-862798b416df"
      },
      "execution_count": null,
      "outputs": [
        {
          "output_type": "execute_result",
          "data": {
            "text/plain": [
              "City\n",
              "Agartala     7.660714\n",
              "Agra         8.046429\n",
              "Ahemdabad    8.190385\n",
              "Ajmer        8.284314\n",
              "Akola        8.021429\n",
              "               ...   \n",
              "Vidisha      7.738095\n",
              "Vijaywada    7.986364\n",
              "Wardha       8.328571\n",
              "konark       8.071429\n",
              "kullu        7.878571\n",
              "Name: CGPA, Length: 177, dtype: float64"
            ]
          },
          "metadata": {},
          "execution_count": 67
        }
      ]
    },
    {
      "cell_type": "code",
      "source": [
        "sorted_city = avg_gpa_by_city.sort_values(ascending=False)\n",
        "top_10 = sorted_city.head(10)\n",
        "\n",
        "print(\"TOP 10 cities by avg CGPA:\\n\")\n",
        "print(top_10)"
      ],
      "metadata": {
        "colab": {
          "base_uri": "https://localhost:8080/"
        },
        "id": "m3HeElOfQygU",
        "outputId": "6716765f-8949-493a-acf3-a1c828e443d5"
      },
      "execution_count": null,
      "outputs": [
        {
          "output_type": "stream",
          "name": "stdout",
          "text": [
            "TOP 10 cities by avg CGPA:\n",
            "\n",
            "City\n",
            "Kolhapur    8.557143\n",
            "Raipur      8.507143\n",
            "Sonipat     8.464286\n",
            "Gurugram    8.459259\n",
            "Puri        8.450000\n",
            "Siwan       8.450000\n",
            "Srinagar    8.435714\n",
            "Delhi       8.414286\n",
            "Pune        8.400000\n",
            "Hasan       8.392857\n",
            "Name: CGPA, dtype: float64\n"
          ]
        }
      ]
    },
    {
      "cell_type": "code",
      "source": [
        "top_10_reversed = top_10[::-1]\n",
        "plt.figure(figsize=(20, 12))\n",
        "top_10_reversed.plot(kind='barh', color='skyblue')\n",
        "plt.xlabel(\"City Names\")\n",
        "plt.ylabel(\"Avg CGPA\")\n",
        "plt.title(\"Top 10 Cities by CGPA\")\n",
        "plt.xticks(rotation=45)\n",
        "plt.tight_layout()\n",
        "plt.show()"
      ],
      "metadata": {
        "colab": {
          "base_uri": "https://localhost:8080/",
          "height": 902
        },
        "id": "EDI9nvfDRyJH",
        "outputId": "08df0d4f-01ee-46cb-c65f-98c8c97f30af"
      },
      "execution_count": null,
      "outputs": [
        {
          "output_type": "display_data",
          "data": {
            "text/plain": [
              "<Figure size 2000x1200 with 1 Axes>"
            ],
            "image/png": "[encoded data removed]"
          },
          "metadata": {}
        }
      ]
    },
    {
      "cell_type": "markdown",
      "source": [
        "#Q.9 Can we identify any relationship between gpa and family income?"
      ],
      "metadata": {
        "id": "RRWC6GQARdRj"
      }
    },
    {
      "cell_type": "code",
      "source": [
        "# Create a scatter plot to visualize the relationship between GPA and family income\n",
        "plt.figure(figsize=(10, 6))\n",
        "plt.scatter(df['CGPA'], df['Family Income'], alpha=0.5)\n",
        "plt.xlabel('GPA')\n",
        "plt.ylabel('Family Income')\n",
        "plt.title('Scatter Plot: Relationship between GPA and Family Income')\n",
        "plt.grid(True)\n",
        "plt.show()\n"
      ],
      "metadata": {
        "colab": {
          "base_uri": "https://localhost:8080/",
          "height": 564
        },
        "id": "e-l1B2d4RIYY",
        "outputId": "46c970a9-04c7-46e4-c9f4-0fa158a6a982"
      },
      "execution_count": null,
      "outputs": [
        {
          "output_type": "display_data",
          "data": {
            "text/plain": [
              "<Figure size 1000x600 with 1 Axes>"
            ],
            "image/png": "[encoded data removed]"
          },
          "metadata": {}
        }
      ]
    },
    {
      "cell_type": "markdown",
      "source": [
        "### 5. Conclusions\n",
        "- Student's Performance(expected salary) does not vary a lot wrt parameters like leadership, cgpa however majority o students have a lot family income yet higher expected salary.\n"
      ],
      "metadata": {
        "id": "z_kBbdsn_RG8"
      }
    },
    {
      "cell_type": "code",
      "source": [],
      "metadata": {
        "id": "iOWSGZwZNHHc"
      },
      "execution_count": null,
      "outputs": []
    }
  ]
}